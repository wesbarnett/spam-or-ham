{
 "cells": [
  {
   "cell_type": "markdown",
   "metadata": {},
   "source": [
    "# Spam or Ham?\n",
    "\n",
    "This is an example of using machine learning to classify emails as either spam or ham (not spam). The emails used to train this classifier are from [SpamAssassin's Public Corpus](https://spamassassin.apache.org/old/publiccorpus/). "
   ]
  },
  {
   "cell_type": "code",
   "execution_count": 1,
   "metadata": {},
   "outputs": [],
   "source": [
    "from bs4 import BeautifulSoup\n",
    "from collections import Counter\n",
    "import email\n",
    "import joblib\n",
    "from nltk.stem.porter import PorterStemmer\n",
    "import numpy as np\n",
    "import pandas as pd\n",
    "import re\n",
    "import string"
   ]
  },
  {
   "cell_type": "markdown",
   "metadata": {},
   "source": [
    "## 1 Preprocessing"
   ]
  },
  {
   "cell_type": "code",
   "execution_count": 2,
   "metadata": {},
   "outputs": [],
   "source": [
    "def process_email(txt):\n",
    "    \"\"\"\n",
    "    Takes a text file, opens it, and read in the contents. From there the header of the email is stripped, \n",
    "    since we are keeping this program simple. All letters are made lowercase and line breaks removed. HTML \n",
    "    is stripped. Numbers, urls, email addresses, and dollar signs are translated into other terms. All \n",
    "    other punctuation is stripped. I use a porter stemmer to convert words to their stems and build up the \n",
    "    word list that will later be converted to features.\n",
    "    \"\"\"\n",
    "    if (type(txt) == bytes):\n",
    "        msg_email = email.message_from_bytes(txt)\n",
    "    else:\n",
    "        msg_email = email.message_from_string(txt)\n",
    "    word_list = []\n",
    "    stemmer = PorterStemmer()\n",
    "    msg = ''\n",
    "    if msg_email.is_multipart():\n",
    "        for part in msg_email.walk():\n",
    "            ctype = part.get_content_type()\n",
    "            cdispo = str(part.get('Content-Disposition'))\n",
    "            # skip any text/plain (txt) attachments\n",
    "            if ctype == 'text/plain' and 'attachment' not in cdispo:\n",
    "                body = part.get_payload()\n",
    "                break\n",
    "    else:\n",
    "        msg = msg_email.get_payload()\n",
    "        \n",
    "    # Conver to all lowercase\n",
    "    msg = msg.lower()\n",
    "    \n",
    "    # Remove line breaks\n",
    "    msg = re.sub('\\n', ' ', msg)\n",
    "    msg = re.sub('\\t', ' ', msg)\n",
    "    \n",
    "    # Stip HTML\n",
    "    soup = BeautifulSoup(msg, 'lxml')\n",
    "    msg = soup.get_text()\n",
    "    \n",
    "    # Convert numbers, urls, email addresses, and dollar signs\n",
    "    msg = re.sub('[0-9]+', 'number', msg)\n",
    "    msg = re.sub('(http|https)://[^\\s]*', 'httpaddr', msg)\n",
    "    msg = re.sub('[^\\s]+@[^\\s]+', 'emailaddr', msg)\n",
    "    msg = re.sub('[$]+', 'dollar', msg)\n",
    "    \n",
    "    # Remove additional punctuation\n",
    "    table = str.maketrans({key: None for key in string.punctuation})\n",
    "    msg = msg.translate(table)\n",
    "    return msg"
   ]
  },
  {
   "cell_type": "markdown",
   "metadata": {},
   "source": [
    "### 1.1 Load the text files"
   ]
  },
  {
   "cell_type": "code",
   "execution_count": 3,
   "metadata": {},
   "outputs": [],
   "source": [
    "from sklearn.datasets import load_files"
   ]
  },
  {
   "cell_type": "code",
   "execution_count": 4,
   "metadata": {},
   "outputs": [],
   "source": [
    "emails = load_files('data/')"
   ]
  },
  {
   "cell_type": "code",
   "execution_count": 5,
   "metadata": {},
   "outputs": [
    {
     "data": {
      "text/plain": [
       "['ham', 'spam']"
      ]
     },
     "execution_count": 5,
     "metadata": {},
     "output_type": "execute_result"
    }
   ],
   "source": [
    "emails.target_names"
   ]
  },
  {
   "cell_type": "markdown",
   "metadata": {},
   "source": [
    "### 1.2 Split data into train and test sets"
   ]
  },
  {
   "cell_type": "code",
   "execution_count": 6,
   "metadata": {},
   "outputs": [],
   "source": [
    "from sklearn.model_selection import train_test_split"
   ]
  },
  {
   "cell_type": "code",
   "execution_count": 7,
   "metadata": {},
   "outputs": [],
   "source": [
    "X_train, X_test, y_train, y_test = train_test_split(emails.data, emails.target)"
   ]
  },
  {
   "cell_type": "code",
   "execution_count": 8,
   "metadata": {},
   "outputs": [
    {
     "data": {
      "text/plain": [
       "b'From fork-admin@xent.com  Sat Sep 21 10:43:16 2002\\nReturn-Path: <fork-admin@xent.com>\\nDelivered-To: yyyy@localhost.spamassassin.taint.org\\nReceived: from localhost (jalapeno [127.0.0.1])\\n\\tby jmason.org (Postfix) with ESMTP id 034D216F16\\n\\tfor <jm@localhost>; Sat, 21 Sep 2002 10:43:16 +0100 (IST)\\nReceived: from jalapeno [127.0.0.1]\\n\\tby localhost with IMAP (fetchmail-5.9.0)\\n\\tfor jm@localhost (single-drop); Sat, 21 Sep 2002 10:43:16 +0100 (IST)\\nReceived: from xent.com ([64.161.22.236]) by dogma.slashnull.org\\n    (8.11.6/8.11.6) with ESMTP id g8L5NmC10269 for <jm@jmason.org>;\\n    Sat, 21 Sep 2002 06:23:49 +0100\\nReceived: from lair.xent.com (localhost [127.0.0.1]) by xent.com (Postfix)\\n    with ESMTP id E73CB294180; Fri, 20 Sep 2002 22:20:06 -0700 (PDT)\\nDelivered-To: fork@spamassassin.taint.org\\nReceived: from c007.snv.cp.net (h014.c007.snv.cp.net [209.228.33.242]) by\\n    xent.com (Postfix) with SMTP id 0D4C929409C for <fork@xent.com>;\\n    Fri, 20 Sep 2002 22:19:06 -0700 (PDT)\\nReceived: (cpmta 18810 invoked from network); 20 Sep 2002 22:22:35 -0700\\nReceived: from 65.189.7.13 (HELO alumni.rice.edu) by\\n    smtp.directvinternet.com (209.228.33.242) with SMTP; 20 Sep 2002 22:22:35\\n    -0700\\nX-Sent: 21 Sep 2002 05:22:35 GMT\\nMessage-Id: <3D8C01C8.6040502@alumni.rice.edu>\\nFrom: Wayne E Baisley <baisley@alumni.rice.edu>\\nUser-Agent: Mozilla/5.0 (Windows; U; Win98; en-US; rv:1.0.1)\\n    Gecko/20020823 Netscape/7.0\\nX-Accept-Language: en-us, en\\nMIME-Version: 1.0\\nTo: fork@spamassassin.taint.org\\nSubject: Re: calling wayne baisley, the 12-Step Calvinist\\nReferences: <Pine.LNX.4.44.0209202353440.4231-100000@isolnetsux.techmonkeys.net>\\nContent-Type: text/plain; charset=us-ascii; format=flowed\\nContent-Transfer-Encoding: 7bit\\nSender: fork-admin@xent.com\\nErrors-To: fork-admin@xent.com\\nX-Beenthere: fork@spamassassin.taint.org\\nX-Mailman-Version: 2.0.11\\nPrecedence: bulk\\nList-Help: <mailto:fork-request@xent.com?subject=help>\\nList-Post: <mailto:fork@spamassassin.taint.org>\\nList-Subscribe: <http://xent.com/mailman/listinfo/fork>, <mailto:fork-request@xent.com?subject=subscribe>\\nList-Id: Friends of Rohit Khare <fork.xent.com>\\nList-Unsubscribe: <http://xent.com/mailman/listinfo/fork>,\\n    <mailto:fork-request@xent.com?subject=unsubscribe>\\nList-Archive: <http://xent.com/pipermail/fork/>\\nDate: Sat, 21 Sep 2002 00:21:12 -0500\\n\\n > help me out here.\\n > You around?\\n\\nBarely, but don\\'t call me Shirley.  ;-)\\n\\nI\\'m sleeping with one eye open.\\n\\nI wouldn\\'t have married me if I\\'d known how extremely shallow my \\npolitics are.\\n\\n\"The ward lurks in Wisteria\\'s maze.\"\\n\\nCheers,\\nWayne\\n\\n\\n'"
      ]
     },
     "execution_count": 8,
     "metadata": {},
     "output_type": "execute_result"
    }
   ],
   "source": [
    "X_train[0]"
   ]
  },
  {
   "cell_type": "code",
   "execution_count": 9,
   "metadata": {},
   "outputs": [
    {
     "data": {
      "text/plain": [
       "' help me out here   you around  barely but dont call me shirley    im sleeping with one eye open  i wouldnt have married me if id known how extremely shallow my  politics are  the ward lurks in wisterias maze  cheers wayne   '"
      ]
     },
     "execution_count": 9,
     "metadata": {},
     "output_type": "execute_result"
    }
   ],
   "source": [
    "process_email(X_train[0])"
   ]
  },
  {
   "cell_type": "markdown",
   "metadata": {},
   "source": [
    "## 2 Support Vector Machine"
   ]
  },
  {
   "cell_type": "code",
   "execution_count": 10,
   "metadata": {},
   "outputs": [],
   "source": [
    "from sklearn.model_selection import train_test_split, GridSearchCV\n",
    "from sklearn.metrics import precision_recall_curve, average_precision_score, classification_report\n",
    "from sklearn.svm import SVC\n",
    "from sklearn.feature_extraction.text import CountVectorizer, TfidfTransformer\n",
    "from sklearn.pipeline import Pipeline\n",
    "import matplotlib.pyplot as plt\n",
    "import numpy as np\n",
    "import pandas as pd\n",
    "import joblib"
   ]
  },
  {
   "cell_type": "markdown",
   "metadata": {},
   "source": [
    "### 2.1 Grid search and cross-validation on train set\n",
    "\n",
    "We convert the emails into feature vectors which tell whether or not a word occurs in the email."
   ]
  },
  {
   "cell_type": "code",
   "execution_count": 18,
   "metadata": {},
   "outputs": [
    {
     "name": "stdout",
     "output_type": "stream",
     "text": [
      "Fitting 5 folds for each of 5 candidates, totalling 25 fits\n",
      "[CV] svc__C=0.01 .....................................................\n",
      "[CV] svc__C=0.01 .....................................................\n",
      "[CV] svc__C=0.01 .....................................................\n",
      "[CV] ............ svc__C=0.01, score=0.9230769230769231, total=  24.1s\n",
      "[CV] svc__C=0.01 .....................................................\n",
      "[CV] ............ svc__C=0.01, score=0.8923884514435695, total=  25.1s\n",
      "[CV] svc__C=0.01 .....................................................\n"
     ]
    },
    {
     "name": "stderr",
     "output_type": "stream",
     "text": [
      "[Parallel(n_jobs=3)]: Done   2 tasks      | elapsed:   47.7s\n"
     ]
    },
    {
     "name": "stdout",
     "output_type": "stream",
     "text": [
      "[CV] ............ svc__C=0.01, score=0.9128738621586475, total=  30.1s\n",
      "[CV] svc__C=0.1 ......................................................\n",
      "[CV] ............ svc__C=0.01, score=0.9100391134289438, total=  25.2s\n",
      "[CV] svc__C=0.1 ......................................................\n",
      "[CV] ............. svc__C=0.1, score=0.9252577319587628, total=  20.8s\n",
      "[CV] svc__C=0.1 ......................................................\n",
      "[CV] ............ svc__C=0.01, score=0.8851612903225806, total=  29.6s\n",
      "[CV] svc__C=0.1 ......................................................\n",
      "[CV] ............. svc__C=0.1, score=0.9203084832904884, total=  23.1s\n",
      "[CV] svc__C=0.1 ......................................................\n"
     ]
    },
    {
     "name": "stderr",
     "output_type": "stream",
     "text": [
      "[Parallel(n_jobs=3)]: Done   7 tasks      | elapsed:  2.3min\n"
     ]
    },
    {
     "name": "stdout",
     "output_type": "stream",
     "text": [
      "[CV] ............. svc__C=0.1, score=0.9116517285531369, total=  27.4s\n",
      "[CV] svc__C=1.0 ......................................................\n",
      "[CV] ............. svc__C=0.1, score=0.9220945083014048, total=  26.2s\n",
      "[CV] svc__C=1.0 ......................................................\n",
      "[CV] .............. svc__C=0.1, score=0.898477157360406, total=  22.2s\n",
      "[CV] svc__C=1.0 ......................................................\n",
      "[CV] ............. svc__C=1.0, score=0.9212903225806452, total=  24.8s\n",
      "[CV] svc__C=1.0 ......................................................\n",
      "[CV] ............. svc__C=1.0, score=0.9210866752910738, total=  27.2s\n",
      "[CV] svc__C=1.0 ......................................................\n"
     ]
    },
    {
     "name": "stderr",
     "output_type": "stream",
     "text": [
      "[Parallel(n_jobs=3)]: Done  12 tasks      | elapsed:  3.2min\n"
     ]
    },
    {
     "name": "stdout",
     "output_type": "stream",
     "text": [
      "[CV] ............. svc__C=1.0, score=0.9058524173027989, total=  26.2s\n",
      "[CV] svc__C=10.0 .....................................................\n",
      "[CV] ............. svc__C=1.0, score=0.9203084832904884, total=  25.1s\n",
      "[CV] svc__C=10.0 .....................................................\n",
      "[CV] ............. svc__C=1.0, score=0.8993630573248408, total=  22.2s\n",
      "[CV] svc__C=10.0 .....................................................\n",
      "[CV] ............ svc__C=10.0, score=0.9201030927835051, total=  22.1s\n",
      "[CV] svc__C=10.0 .....................................................\n",
      "[CV] ............ svc__C=10.0, score=0.9135483870967741, total=  22.9s\n",
      "[CV] svc__C=10.0 .....................................................\n",
      "[CV] ............ svc__C=10.0, score=0.9033078880407124, total=  25.6s\n",
      "[CV] svc__C=100.0 ....................................................\n",
      "[CV] ............ svc__C=10.0, score=0.9159120310478654, total=  24.2s\n",
      "[CV] svc__C=100.0 ....................................................\n"
     ]
    },
    {
     "name": "stderr",
     "output_type": "stream",
     "text": [
      "[Parallel(n_jobs=3)]: Done  19 tasks      | elapsed:  5.1min\n"
     ]
    },
    {
     "name": "stdout",
     "output_type": "stream",
     "text": [
      "[CV] ........... svc__C=100.0, score=0.9201030927835051, total=  26.2s\n",
      "[CV] svc__C=100.0 ....................................................\n",
      "[CV] ............ svc__C=10.0, score=0.8968152866242038, total=  24.7s\n",
      "[CV] svc__C=100.0 ....................................................\n",
      "[CV] ........... svc__C=100.0, score=0.9135483870967741, total=  25.3s\n",
      "[CV] svc__C=100.0 ....................................................\n",
      "[CV] ........... svc__C=100.0, score=0.9033078880407124, total=  22.7s\n"
     ]
    },
    {
     "name": "stderr",
     "output_type": "stream",
     "text": [
      "[Parallel(n_jobs=3)]: Done  23 out of  25 | elapsed:  6.1min remaining:   31.8s\n"
     ]
    },
    {
     "name": "stdout",
     "output_type": "stream",
     "text": [
      "[CV] ........... svc__C=100.0, score=0.9159120310478654, total=  26.3s\n",
      "[CV] ........... svc__C=100.0, score=0.8982188295165395, total=  21.3s\n"
     ]
    },
    {
     "name": "stderr",
     "output_type": "stream",
     "text": [
      "[Parallel(n_jobs=3)]: Done  25 out of  25 | elapsed:  6.5min finished\n"
     ]
    },
    {
     "data": {
      "text/plain": [
       "['clf.gz']"
      ]
     },
     "execution_count": 18,
     "metadata": {},
     "output_type": "execute_result"
    }
   ],
   "source": [
    "pipeline = Pipeline([\n",
    "    ('vect', CountVectorizer(max_features=2000, \n",
    "                             preprocessor=process_email,\n",
    "                             decode_error='ignore',\n",
    "                             binary=True)),\n",
    "    ('svc', SVC(kernel='linear')),\n",
    "])\n",
    "tuned_parameters = [{'svc__C': np.logspace(-2,2,5)}]\n",
    "clf = GridSearchCV(pipeline, param_grid=tuned_parameters, \n",
    "                   scoring=\"f1\", return_train_score=True,\n",
    "                   verbose=10, n_jobs=3, cv=5)\n",
    "clf.fit(X_train, y_train)\n",
    "joblib.dump(clf, 'clf.gz')"
   ]
  },
  {
   "cell_type": "code",
   "execution_count": 19,
   "metadata": {},
   "outputs": [],
   "source": [
    "clf = joblib.load('clf.gz')\n",
    "results = pd.DataFrame(clf.cv_results_)"
   ]
  },
  {
   "cell_type": "markdown",
   "metadata": {},
   "source": [
    "### 2.2 Validation curve"
   ]
  },
  {
   "cell_type": "code",
   "execution_count": 24,
   "metadata": {},
   "outputs": [
    {
     "data": {
      "image/png": "[encoded data removed]",
      "text/plain": [
       "<Figure size 432x288 with 1 Axes>"
      ]
     },
     "metadata": {},
     "output_type": "display_data"
    }
   ],
   "source": [
    "results.plot('param_svc__C', 'mean_train_score', label='Train score')\n",
    "results.plot('param_svc__C', 'mean_test_score', label='Test score', ax=plt.gca())\n",
    "plt.fill_between(results.param_svc__C.astype(np.float),\n",
    "                 results['mean_train_score'] + results['std_train_score'],\n",
    "                 results['mean_train_score'] - results['std_train_score'], \n",
    "                 alpha=0.2)\n",
    "plt.fill_between(results.param_svc__C.astype(np.float),\n",
    "                 results['mean_test_score'] + results['std_test_score'],\n",
    "                 results['mean_test_score'] - results['std_test_score'], \n",
    "                 alpha=0.2)\n",
    "plt.xscale('log')\n",
    "plt.xlabel('C')\n",
    "plt.ylabel('Score')\n",
    "plt.legend()\n",
    "plt.show()"
   ]
  },
  {
   "cell_type": "markdown",
   "metadata": {},
   "source": [
    "### 2.3 Precision-recall curve"
   ]
  },
  {
   "cell_type": "code",
   "execution_count": 25,
   "metadata": {},
   "outputs": [],
   "source": [
    "y_score = clf.decision_function(X_test)\n",
    "average_precision = average_precision_score(y_test, y_score)\n",
    "precision, recall, _ = precision_recall_curve(y_test, y_score)"
   ]
  },
  {
   "cell_type": "code",
   "execution_count": 26,
   "metadata": {},
   "outputs": [
    {
     "data": {
      "image/png": "[encoded data removed]",
      "text/plain": [
       "<Figure size 432x288 with 1 Axes>"
      ]
     },
     "metadata": {},
     "output_type": "display_data"
    }
   ],
   "source": [
    "plt.step(recall, precision, color='b', alpha=0.2, where='post')\n",
    "plt.fill_between(recall, precision, step='post', alpha=0.2, color='b')\n",
    "\n",
    "plt.xlabel('Recall')\n",
    "plt.ylabel('Precision')\n",
    "plt.ylim([0.0, 1.0])\n",
    "plt.xlim([0.0, 1.0])\n",
    "plt.title('Precision-recall curve: AP={0:0.2f}'.format(average_precision))\n",
    "plt.show()"
   ]
  },
  {
   "cell_type": "markdown",
   "metadata": {},
   "source": [
    "### 2.4 Evaluation of test set"
   ]
  },
  {
   "cell_type": "code",
   "execution_count": 27,
   "metadata": {},
   "outputs": [],
   "source": [
    "y_true, y_pred = y_test, clf.predict(X_test)"
   ]
  },
  {
   "cell_type": "code",
   "execution_count": 28,
   "metadata": {},
   "outputs": [
    {
     "name": "stdout",
     "output_type": "stream",
     "text": [
      "             precision    recall  f1-score   support\n",
      "\n",
      "          0       0.99      0.94      0.96      1761\n",
      "          1       0.84      0.98      0.90       577\n",
      "\n",
      "avg / total       0.96      0.95      0.95      2338\n",
      "\n"
     ]
    }
   ],
   "source": [
    "print(classification_report(y_true, y_pred))"
   ]
  },
  {
   "cell_type": "code",
   "execution_count": 29,
   "metadata": {},
   "outputs": [
    {
     "name": "stdout",
     "output_type": "stream",
     "text": [
      "Training accuracy: 0.933\n"
     ]
    }
   ],
   "source": [
    "print(\"Training accuracy: {0:.3}\".format(clf.score(X_train, y_train)))"
   ]
  },
  {
   "cell_type": "code",
   "execution_count": 30,
   "metadata": {},
   "outputs": [
    {
     "name": "stdout",
     "output_type": "stream",
     "text": [
      "Test accuracy: 0.904\n"
     ]
    }
   ],
   "source": [
    "print(\"Test accuracy: {0:.3}\".format(clf.score(X_test, y_test)))"
   ]
  },
  {
   "cell_type": "markdown",
   "metadata": {},
   "source": [
    "### 2.5 Top predictors of spam\n",
    "\n",
    "Clearly there is an issue of our model picking up words that are specific to this data set. `spamassassinsight` seems to be referring to `spamassassin-sightings`, an e-mail list that some users refer to. `deathtospamdeathtospamdeathtospam` comes from someone's signature. If we were to generalize our model, we would need a more general vocabulary list, drawn from a more diverse data set, or we can adjust `CountVectorizer` in the pipeline (or do a grid search over some additional hyperparameters)."
   ]
  },
  {
   "cell_type": "code",
   "execution_count": 56,
   "metadata": {
    "scrolled": true
   },
   "outputs": [
    {
     "data": {
      "image/png": "[encoded data removed]",
      "text/plain": [
       "<Figure size 432x288 with 1 Axes>"
      ]
     },
     "metadata": {},
     "output_type": "display_data"
    }
   ],
   "source": [
    "def plot_top(coef, names, n=10):\n",
    "    coef_argsorted = np.argsort(coef)\n",
    "    feature_names_array = np.array(names)\n",
    "    words = []\n",
    "    values = []\n",
    "    for i in range(-n,0):\n",
    "        words.append(names[coef_argsorted[i]])\n",
    "        values.append(coef[coef_argsorted[i]])\n",
    "\n",
    "    y = np.arange(n)\n",
    "    plt.barh(y, values)\n",
    "    plt.yticks(y, words)\n",
    "    plt.xlabel('Coefficient')\n",
    "    plt.ylabel('Word')\n",
    "    plt.show()\n",
    "    \n",
    "plot_top(clf.best_estimator_.named_steps['svc'].coef_.toarray()[0], \n",
    "         clf.best_estimator_.named_steps['vect'].get_feature_names())"
   ]
  }
 ],
 "metadata": {
  "kernelspec": {
   "display_name": "Python 3",
   "language": "python",
   "name": "python3"
  },
  "language_info": {
   "codemirror_mode": {
    "name": "ipython",
    "version": 3
   },
   "file_extension": ".py",
   "mimetype": "text/x-python",
   "name": "python",
   "nbconvert_exporter": "python",
   "pygments_lexer": "ipython3",
   "version": "3.6.5"
  }
 },
 "nbformat": 4,
 "nbformat_minor": 2
}
