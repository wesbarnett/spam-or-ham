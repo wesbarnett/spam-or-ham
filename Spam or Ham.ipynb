{
 "cells": [
  {
   "cell_type": "markdown",
   "metadata": {},
   "source": [
    "# Spam or Ham?\n",
    "\n",
    "This is an example of using machine learning to classify emails as either spam or ham (not spam). The emails used to train this classifier are from [SpamAssassin's Public Corpus](https://spamassassin.apache.org/old/publiccorpus/). "
   ]
  },
  {
   "cell_type": "code",
   "execution_count": 25,
   "metadata": {},
   "outputs": [],
   "source": [
    "from bs4 import BeautifulSoup\n",
    "import email\n",
    "import joblib\n",
    "from nltk.stem.porter import PorterStemmer\n",
    "import matplotlib.pyplot as plt\n",
    "import numpy as np\n",
    "import pandas as pd\n",
    "import re\n",
    "from sklearn.feature_extraction.text import CountVectorizer\n",
    "import string"
   ]
  },
  {
   "cell_type": "markdown",
   "metadata": {},
   "source": [
    "## 1 Preprocessing"
   ]
  },
  {
   "cell_type": "markdown",
   "metadata": {},
   "source": [
    "The two functions below will aid in the processing of the emails when the are used with our model. The first fucntion, `process_email`, take the text of the email and removes the header, HTML, punctuation, etc. The second function, `stemmed_words`, calls `process_email` on the text and then runs a stemmer on the words in the email. `stemmed_words` will be our actual analyzer function for `CountVectorizer`, as you can see below."
   ]
  },
  {
   "cell_type": "code",
   "execution_count": 4,
   "metadata": {},
   "outputs": [],
   "source": [
    "def process_email(txt):\n",
    "    \"\"\"\n",
    "    Takes an email message and cleans it up for use with CountVectorizer().\n",
    "    \"\"\"\n",
    "    if (type(txt) == bytes):\n",
    "        msg_email = email.message_from_bytes(txt)\n",
    "    else:\n",
    "        msg_email = email.message_from_string(txt)\n",
    "        \n",
    "    # Only use the message body\n",
    "    msg = ''\n",
    "    if msg_email.is_multipart():\n",
    "        for part in msg_email.walk():\n",
    "            ctype = part.get_content_type()\n",
    "            cdispo = str(part.get('Content-Disposition'))\n",
    "            # skip any text/plain (txt) attachments\n",
    "            if ctype == 'text/plain' and 'attachment' not in cdispo:\n",
    "                body = part.get_payload()\n",
    "                break\n",
    "    else:\n",
    "        msg = msg_email.get_payload()\n",
    "        \n",
    "    # Conver to all lowercase\n",
    "    msg = msg.lower()\n",
    "    \n",
    "    # Remove line breaks\n",
    "    msg = re.sub('\\n', ' ', msg)\n",
    "    msg = re.sub('\\t', ' ', msg)\n",
    "    \n",
    "    # Stip HTML\n",
    "    soup = BeautifulSoup(msg, 'lxml')\n",
    "    msg = soup.get_text()\n",
    "    \n",
    "    # Convert numbers, urls, email addresses, and dollar signs\n",
    "    msg = re.sub('[0-9]+', 'number', msg)\n",
    "    msg = re.sub('(http|https)://[^\\s]*', 'httpaddr', msg)\n",
    "    msg = re.sub('[^\\s]+@[^\\s]+', 'emailaddr', msg)\n",
    "    msg = re.sub('[$]+', 'dollar', msg)\n",
    "    \n",
    "    # Remove additional punctuation\n",
    "    table = str.maketrans({key: None for key in string.punctuation})\n",
    "    msg = msg.translate(table)\n",
    "    return msg\n",
    "\n",
    "stemmer = PorterStemmer()\n",
    "analyzer = CountVectorizer(decode_error='ignore').build_analyzer()\n",
    "\n",
    "def stemmed_words(doc):\n",
    "    doc = process_email(doc)\n",
    "    return (stemmer.stem(w) for w in analyzer(doc))"
   ]
  },
  {
   "cell_type": "markdown",
   "metadata": {},
   "source": [
    "### 1.1 Load the text files\n",
    "`load_files` is a nice function for loading large amounts of data. I have the spam emails in `./data/spam` and the ham emails in `./data/ham`. `load_files` automatically classifies the documents based on which folder they are in. When I downloaded the data sets I sorted them based on their labels given by the data set's curator. The emails themselves are stored in the `.data` object with the labels stored in the `.target` object."
   ]
  },
  {
   "cell_type": "code",
   "execution_count": 5,
   "metadata": {},
   "outputs": [],
   "source": [
    "from sklearn.datasets import load_files"
   ]
  },
  {
   "cell_type": "code",
   "execution_count": 6,
   "metadata": {},
   "outputs": [],
   "source": [
    "emails = load_files('data/')"
   ]
  },
  {
   "cell_type": "code",
   "execution_count": 7,
   "metadata": {},
   "outputs": [
    {
     "data": {
      "text/plain": [
       "['ham', 'spam']"
      ]
     },
     "execution_count": 7,
     "metadata": {},
     "output_type": "execute_result"
    }
   ],
   "source": [
    "emails.target_names"
   ]
  },
  {
   "cell_type": "code",
   "execution_count": 8,
   "metadata": {},
   "outputs": [
    {
     "data": {
      "text/plain": [
       "array([0, 1, 0, ..., 0, 0, 0])"
      ]
     },
     "execution_count": 8,
     "metadata": {},
     "output_type": "execute_result"
    }
   ],
   "source": [
    "emails.target"
   ]
  },
  {
   "cell_type": "markdown",
   "metadata": {},
   "source": [
    "### 1.2 Split data into train and test sets\n",
    "`train_test_split` shuffles the data by default and splits the data into training and test sets, with 75% of the data in the training set, and 25% in the test set."
   ]
  },
  {
   "cell_type": "code",
   "execution_count": 9,
   "metadata": {},
   "outputs": [],
   "source": [
    "from sklearn.model_selection import train_test_split"
   ]
  },
  {
   "cell_type": "code",
   "execution_count": 10,
   "metadata": {},
   "outputs": [],
   "source": [
    "X_train, X_test, y_train, y_test = train_test_split(emails.data, emails.target)"
   ]
  },
  {
   "cell_type": "markdown",
   "metadata": {},
   "source": [
    "Here's one example of an email before and after it is processed:"
   ]
  },
  {
   "cell_type": "code",
   "execution_count": 11,
   "metadata": {},
   "outputs": [
    {
     "data": {
      "text/plain": [
       "b'From georgiana_sprott@aemail4u.com  Mon Jun 24 17:52:21 2002\\nReturn-Path: georgiana_sprott@aemail4u.com\\nDelivery-Date: Sun Jun  2 16:48:25 2002\\nReceived: from mandark.labs.netnoteinc.com ([213.105.180.140]) by\\n    dogma.slashnull.org (8.11.6/8.11.6) with ESMTP id g52FmOO32202 for\\n    <jm@jmason.org>; Sun, 2 Jun 2002 16:48:25 +0100\\nReceived: from smtp.easydns.com (smtp.easydns.com [205.210.42.30]) by\\n    mandark.labs.netnoteinc.com (8.11.2/8.11.2) with ESMTP id g52FmN724287 for\\n    <jm@netnoteinc.com>; Sun, 2 Jun 2002 16:48:23 +0100\\nReceived: from aemail4u.com (unknown [203.250.250.21]) by smtp.easydns.com\\n    (Postfix) with SMTP id 5BE662DF25 for <jm@netnoteinc.com>; Sun,\\n    2 Jun 2002 11:46:44 -0400 (EDT)\\nReceived: from 109.34.246.77 ([109.34.246.77]) by rly-xw01.mx.aol.com with\\n    esmtp; 03 Jun 2002 00:55:31 -0900\\nReply-To: <georgiana_sprott@aemail4u.com>\\nMessage-Id: <027d82a01d7e$7657e4b0$5ce17ed7@afnqor>\\nFrom: <georgiana_sprott@aemail4u.com>\\nTo: Member07@no.hostname.supplied\\nSubject: new extensions now only $14.95\\nDate: Sun, 02 Jun 2002 14:55:31 +0100\\nMIME-Version: 1.0\\nContent-Type: text/plain; charset=\"iso-8859-1\"\\nX-Priority: 3 (Normal)\\nX-Msmail-Priority: Normal\\nX-Mailer: Microsoft Outlook Express 6.00.2462.0000\\nImportance: Normal\\nX-Keywords: \\nContent-Transfer-Encoding: 8bit\\n\\nPUBLIC ANNOUNCEMENT:\\n\\nThe new domain names are finally available to the general public at discount prices. Now you can register one of the exciting new .BIZ or .INFO domain names, as well as the original .COM and .NET names for just $14.95. These brand new domain extensions were recently approved by ICANN and have the same rights as the original .COM and .NET domain names. The biggest benefit is of-course that the .BIZ and .INFO domain names are currently more available. i.e. it will be much easier to register an attractive and easy-to-remember domain name for the same price.  Visit: http://www.affordable-domains.com today for more info.\\n \\nRegister your domain name today for just $14.95 at: http://www.affordable-domains.com. Registration fees include full access to an easy-to-use control panel to manage your domain name in the future.\\n \\nSincerely,\\n \\nDomain Administrator\\nAffordable Domains\\n\\n\\nTo remove your email address from further promotional mailings from this company, click here:\\nhttp://www.centralremovalservice.com/cgi-bin/domain-remove.cgi\\n07\\n\\n\\n5027ReYo8-086zKcv4695tdvr3-511Ilir9233WYsO9-473Auor9338JQXz2-3l58\\n\\n'"
      ]
     },
     "execution_count": 11,
     "metadata": {},
     "output_type": "execute_result"
    }
   ],
   "source": [
    "X_train[0]"
   ]
  },
  {
   "cell_type": "markdown",
   "metadata": {},
   "source": [
    "Here it is after processing, before stemming:"
   ]
  },
  {
   "cell_type": "code",
   "execution_count": 12,
   "metadata": {},
   "outputs": [
    {
     "data": {
      "text/plain": [
       "'public announcement  the new domain names are finally available to the general public at discount prices now you can register one of the exciting new biz or info domain names as well as the original com and net names for just dollarnumbernumber these brand new domain extensions were recently approved by icann and have the same rights as the original com and net domain names the biggest benefit is ofcourse that the biz and info domain names are currently more available ie it will be much easier to register an attractive and easytoremember domain name for the same price  visit httpaddr today for more info   register your domain name today for just dollarnumbernumber at httpaddr registration fees include full access to an easytouse control panel to manage your domain name in the future   sincerely   domain administrator affordable domains   to remove your email address from further promotional mailings from this company click here httpaddr number   numberreyonumbernumberzkcvnumbertdvrnumbernumberilirnumberwysonumbernumberauornumberjqxznumbernumberlnumber  '"
      ]
     },
     "execution_count": 12,
     "metadata": {},
     "output_type": "execute_result"
    }
   ],
   "source": [
    "process_email(X_train[0])"
   ]
  },
  {
   "cell_type": "markdown",
   "metadata": {},
   "source": [
    "Here we test out our `CountVectorizer` that calls our analyzer, stemming the words and representing whether or not a word is present by a `0` or `1` (`binary` = True). This is one version of the [bag-of-words model](https://en.wikipedia.org/wiki/Bag-of-words_model). We could also represent the actual count, but here we only will indicate if a word is prsent. In the end our vocabulary list will be built up from all of the emails and sorted by word frequency. We'll only keep the most frequent words in our model."
   ]
  },
  {
   "cell_type": "code",
   "execution_count": 17,
   "metadata": {},
   "outputs": [
    {
     "data": {
      "text/plain": [
       "['access',\n",
       " 'address',\n",
       " 'administr',\n",
       " 'afford',\n",
       " 'an',\n",
       " 'and',\n",
       " 'announc',\n",
       " 'approv',\n",
       " 'are',\n",
       " 'as']"
      ]
     },
     "execution_count": 17,
     "metadata": {},
     "output_type": "execute_result"
    }
   ],
   "source": [
    "vect = CountVectorizer(decode_error='ignore', binary=True, analyzer=stemmed_words)\n",
    "X_tmp = vect.fit_transform([X_train[0]])\n",
    "vect.get_feature_names()[:10]"
   ]
  },
  {
   "cell_type": "markdown",
   "metadata": {},
   "source": [
    "The following shows a `1` for every feature, since our vocabulary list only comes from the single point in our data set. So, obviously all words found in this email are present in this email. Again, later our vocabulary list will be built from the entire training set and then applied to each email."
   ]
  },
  {
   "cell_type": "code",
   "execution_count": 19,
   "metadata": {},
   "outputs": [
    {
     "data": {
      "text/plain": [
       "array([[1, 1, 1, 1, 1, 1, 1, 1, 1, 1, 1, 1, 1, 1, 1, 1, 1, 1, 1, 1, 1, 1,\n",
       "        1, 1, 1, 1, 1, 1, 1, 1, 1, 1, 1, 1, 1, 1, 1, 1, 1, 1, 1, 1, 1, 1,\n",
       "        1, 1, 1, 1, 1, 1, 1, 1, 1, 1, 1, 1, 1, 1, 1, 1, 1, 1, 1, 1, 1, 1,\n",
       "        1, 1, 1, 1, 1, 1, 1, 1, 1, 1, 1, 1, 1, 1, 1, 1, 1, 1, 1, 1, 1, 1,\n",
       "        1, 1, 1]], dtype=int64)"
      ]
     },
     "execution_count": 19,
     "metadata": {},
     "output_type": "execute_result"
    }
   ],
   "source": [
    "X_tmp.toarray()"
   ]
  },
  {
   "cell_type": "markdown",
   "metadata": {},
   "source": [
    "## 2 Support Vector Machine"
   ]
  },
  {
   "cell_type": "code",
   "execution_count": 30,
   "metadata": {},
   "outputs": [],
   "source": [
    "from sklearn.model_selection import train_test_split, GridSearchCV\n",
    "from sklearn.svm import SVC\n",
    "from sklearn.feature_extraction.text import CountVectorizer\n",
    "from sklearn.pipeline import Pipeline\n",
    "import matplotlib.pyplot as plt\n",
    "import numpy as np\n",
    "import pandas as pd\n",
    "import joblib"
   ]
  },
  {
   "cell_type": "markdown",
   "metadata": {},
   "source": [
    "### 2.1 Pipeline construction\n",
    "\n",
    "First we build a `Pipeline` so that every point in the data set (*i.e.*, every email) is passed through the `CountVectorizer` object first and transformed to a bag-of-words representation. We are only going to keep the 2000 most frequently occurring words in the training set, but we could adjust this as a hyperparameter if we desired. Some of the emails have some decoding issues (only a few) so we'll just ignore those. You can see once again we're specifying `binary=True`, meaning we only are counting if a vocabulary word is in the email, not the number of occurrences. We specify the `analyzer` which we made above which is responsible for *both* the preprocessing and tokenization of the words.\n",
    "\n",
    "After emails are processed by `CountVectorizer` they are then fed into `SVC`, the support vector classifer. We are specifying a linear kernel here, but we could easily make that a hyper parameter to do a grid search on below."
   ]
  },
  {
   "cell_type": "code",
   "execution_count": 47,
   "metadata": {},
   "outputs": [],
   "source": [
    "pipeline = Pipeline([\n",
    "    ('vect', CountVectorizer(max_features=2000, \n",
    "                             decode_error='ignore',\n",
    "                             binary=True,\n",
    "                             analyzer=stemmed_words)),\n",
    "    ('svc', SVC(kernel='linear')),\n",
    "])"
   ]
  },
  {
   "cell_type": "markdown",
   "metadata": {},
   "source": [
    "### 2.2 Grid search\n",
    "Here we construct a grid search over the `C` parameter used with the support vector classifer. This is the regularization parameter, also known as the penalty parameter. Smaller values mean more regularization in this case. We run the search on the training set alone and save the model to disk.\n",
    "\n",
    "This grid search also does cross-validation, meaning the data set is split up into two parts, which will become our new training and test sets for this purpose. I'm using five-fold CV, meaning 4/5 of the data is going to be a training set, and the other 1/5 is the test set. For each set of hyperparameters we do this five times, since the data will be split up in five different ways. In the end we'll find the value of `C` that produces the best estimator and that will be used in our final test with the original test set."
   ]
  },
  {
   "cell_type": "code",
   "execution_count": 49,
   "metadata": {},
   "outputs": [
    {
     "name": "stdout",
     "output_type": "stream",
     "text": [
      "Fitting 5 folds for each of 5 candidates, totalling 25 fits\n",
      "[CV] svc__C=0.01 .....................................................\n",
      "[CV] svc__C=0.01 .....................................................\n",
      "[CV] svc__C=0.01 .....................................................\n",
      "[CV] ............ svc__C=0.01, score=0.9023136246786633, total= 1.4min\n",
      "[CV] svc__C=0.01 .....................................................\n",
      "[CV] ............. svc__C=0.01, score=0.858034321372855, total= 1.3min\n",
      "[CV] svc__C=0.01 .....................................................\n"
     ]
    },
    {
     "name": "stderr",
     "output_type": "stream",
     "text": [
      "[Parallel(n_jobs=3)]: Done   2 tasks      | elapsed:  2.5min\n"
     ]
    },
    {
     "name": "stdout",
     "output_type": "stream",
     "text": [
      "[CV] ............ svc__C=0.01, score=0.8593508500772797, total= 1.4min\n",
      "[CV] svc__C=0.1 ......................................................\n",
      "[CV] ............ svc__C=0.01, score=0.8682170542635658, total= 1.4min\n",
      "[CV] svc__C=0.1 ......................................................\n",
      "[CV] ............ svc__C=0.01, score=0.9010416666666666, total= 1.5min\n",
      "[CV] svc__C=0.1 ......................................................\n",
      "[CV] .............. svc__C=0.1, score=0.904040404040404, total= 1.3min\n",
      "[CV] svc__C=0.1 ......................................................\n",
      "[CV] .............. svc__C=0.1, score=0.924066924066924, total= 1.3min\n",
      "[CV] svc__C=0.1 ......................................................\n"
     ]
    },
    {
     "name": "stderr",
     "output_type": "stream",
     "text": [
      "[Parallel(n_jobs=3)]: Done   7 tasks      | elapsed:  7.0min\n"
     ]
    },
    {
     "name": "stdout",
     "output_type": "stream",
     "text": [
      "[CV] ............. svc__C=0.1, score=0.8978562421185371, total= 1.2min\n",
      "[CV] svc__C=1.0 ......................................................\n",
      "[CV] ............. svc__C=0.1, score=0.9238709677419354, total= 1.4min\n",
      "[CV] svc__C=1.0 ......................................................\n",
      "[CV] ............. svc__C=0.1, score=0.9093231162196679, total= 1.2min\n",
      "[CV] svc__C=1.0 ......................................................\n",
      "[CV] ............. svc__C=1.0, score=0.8964646464646465, total= 1.3min\n",
      "[CV] svc__C=1.0 ......................................................\n",
      "[CV] ............. svc__C=1.0, score=0.9234760051880674, total= 1.4min\n",
      "[CV] svc__C=1.0 ......................................................\n"
     ]
    },
    {
     "name": "stderr",
     "output_type": "stream",
     "text": [
      "[Parallel(n_jobs=3)]: Done  12 tasks      | elapsed:  9.8min\n"
     ]
    },
    {
     "name": "stdout",
     "output_type": "stream",
     "text": [
      "[CV] .............. svc__C=1.0, score=0.922680412371134, total= 1.4min\n",
      "[CV] svc__C=10.0 .....................................................\n",
      "[CV] ............. svc__C=1.0, score=0.8908629441624365, total= 1.3min\n",
      "[CV] svc__C=10.0 .....................................................\n",
      "[CV] ............. svc__C=1.0, score=0.8987341772151899, total= 1.4min\n",
      "[CV] svc__C=10.0 .....................................................\n",
      "[CV] ............ svc__C=10.0, score=0.8964646464646465, total= 1.2min\n",
      "[CV] svc__C=10.0 .....................................................\n",
      "[CV] ............ svc__C=10.0, score=0.9232769830949284, total= 1.4min\n",
      "[CV] svc__C=10.0 .....................................................\n",
      "[CV] ............. svc__C=10.0, score=0.922680412371134, total= 1.4min\n",
      "[CV] svc__C=100.0 ....................................................\n",
      "[CV] ............ svc__C=10.0, score=0.8955974842767296, total= 1.3min\n",
      "[CV] svc__C=100.0 ....................................................\n"
     ]
    },
    {
     "name": "stderr",
     "output_type": "stream",
     "text": [
      "[Parallel(n_jobs=3)]: Done  19 tasks      | elapsed: 15.7min\n"
     ]
    },
    {
     "name": "stdout",
     "output_type": "stream",
     "text": [
      "[CV] ............ svc__C=10.0, score=0.9035532994923858, total= 1.5min\n",
      "[CV] svc__C=100.0 ....................................................\n",
      "[CV] ........... svc__C=100.0, score=0.8964646464646465, total= 1.3min\n",
      "[CV] svc__C=100.0 ....................................................\n",
      "[CV] ........... svc__C=100.0, score=0.9232769830949284, total= 1.4min\n",
      "[CV] svc__C=100.0 ....................................................\n",
      "[CV] ............ svc__C=100.0, score=0.922680412371134, total= 1.2min\n"
     ]
    },
    {
     "name": "stderr",
     "output_type": "stream",
     "text": [
      "[Parallel(n_jobs=3)]: Done  23 out of  25 | elapsed: 19.2min remaining:  1.7min\n"
     ]
    },
    {
     "name": "stdout",
     "output_type": "stream",
     "text": [
      "[CV] ........... svc__C=100.0, score=0.8955974842767296, total= 1.3min\n",
      "[CV] ........... svc__C=100.0, score=0.9035532994923858, total= 1.3min\n"
     ]
    },
    {
     "name": "stderr",
     "output_type": "stream",
     "text": [
      "[Parallel(n_jobs=3)]: Done  25 out of  25 | elapsed: 20.3min finished\n"
     ]
    },
    {
     "data": {
      "text/plain": [
       "['clf.gz']"
      ]
     },
     "execution_count": 49,
     "metadata": {},
     "output_type": "execute_result"
    }
   ],
   "source": [
    "tuned_parameters = [{'svc__C': np.logspace(-2,2,5)}]\n",
    "clf = GridSearchCV(pipeline, param_grid=tuned_parameters, \n",
    "                   scoring=\"f1\", return_train_score=True,\n",
    "                   verbose=10, n_jobs=3, cv=5)\n",
    "clf.fit(X_train, y_train)\n",
    "joblib.dump(clf, 'clf.gz')"
   ]
  },
  {
   "cell_type": "markdown",
   "metadata": {},
   "source": [
    "### 2.3 Validation curve\n",
    "\n",
    "Below we plot the validation curve, showing the average train and test scores from the cross validation as a function of the penalty parameter `C`. As you can see there is a peak in the test score at `C=0.1`. Any value greater than that means we would be overfitting, and values lower than that are underfitting."
   ]
  },
  {
   "cell_type": "code",
   "execution_count": 33,
   "metadata": {},
   "outputs": [],
   "source": [
    "from sklearn.metrics import precision_recall_curve, average_precision_score, classification_report, roc_auc_score"
   ]
  },
  {
   "cell_type": "code",
   "execution_count": 20,
   "metadata": {},
   "outputs": [],
   "source": [
    "clf = joblib.load('clf.gz')\n",
    "results = pd.DataFrame(clf.cv_results_)"
   ]
  },
  {
   "cell_type": "code",
   "execution_count": 21,
   "metadata": {},
   "outputs": [
    {
     "data": {
      "text/plain": [
       "{'svc__C': 0.1}"
      ]
     },
     "execution_count": 21,
     "metadata": {},
     "output_type": "execute_result"
    }
   ],
   "source": [
    "clf.best_params_"
   ]
  },
  {
   "cell_type": "code",
   "execution_count": 27,
   "metadata": {},
   "outputs": [
    {
     "data": {
      "image/png": "[encoded data removed]",
      "text/plain": [
       "<Figure size 432x288 with 1 Axes>"
      ]
     },
     "metadata": {},
     "output_type": "display_data"
    }
   ],
   "source": [
    "results.plot('param_svc__C', 'mean_train_score', label='Train score')\n",
    "results.plot('param_svc__C', 'mean_test_score', label='Test score', ax=plt.gca())\n",
    "plt.fill_between(results.param_svc__C.astype(np.float),\n",
    "                 results['mean_train_score'] + results['std_train_score'],\n",
    "                 results['mean_train_score'] - results['std_train_score'], \n",
    "                 alpha=0.2)\n",
    "plt.fill_between(results.param_svc__C.astype(np.float),\n",
    "                 results['mean_test_score'] + results['std_test_score'],\n",
    "                 results['mean_test_score'] - results['std_test_score'], \n",
    "                 alpha=0.2)\n",
    "plt.xscale('log')\n",
    "plt.xlabel('C')\n",
    "plt.ylabel('Score')\n",
    "plt.legend()\n",
    "plt.show()"
   ]
  },
  {
   "cell_type": "markdown",
   "metadata": {},
   "source": [
    "## 3 Test set evaluation"
   ]
  },
  {
   "cell_type": "markdown",
   "metadata": {},
   "source": [
    "### 3.1 Classification report"
   ]
  },
  {
   "cell_type": "markdown",
   "metadata": {},
   "source": [
    "Precision: \n",
    "\n",
    "$ P = \\frac{T_{p}}{T_{p} + F_{p}} $\n",
    "\n",
    "Recall:\n",
    "\n",
    "$ R = \\frac{T_{p}}{T_{p} + F_{n}} $\n",
    "\n",
    "F1 score:\n",
    "\n",
    "$ F1 = 2\\frac{PR}{P+R}$"
   ]
  },
  {
   "cell_type": "code",
   "execution_count": 55,
   "metadata": {},
   "outputs": [],
   "source": [
    "y_pred = clf.predict(X_test)"
   ]
  },
  {
   "cell_type": "code",
   "execution_count": 57,
   "metadata": {},
   "outputs": [
    {
     "name": "stdout",
     "output_type": "stream",
     "text": [
      "Training accuracy: 0.929\n"
     ]
    }
   ],
   "source": [
    "print(\"Training accuracy: {0:.3}\".format(clf.score(X_train, y_train)))"
   ]
  },
  {
   "cell_type": "code",
   "execution_count": 58,
   "metadata": {},
   "outputs": [
    {
     "name": "stdout",
     "output_type": "stream",
     "text": [
      "Test accuracy: 0.912\n"
     ]
    }
   ],
   "source": [
    "print(\"Test accuracy: {0:.3}\".format(clf.score(X_test, y_test)))"
   ]
  },
  {
   "cell_type": "code",
   "execution_count": 56,
   "metadata": {},
   "outputs": [
    {
     "name": "stdout",
     "output_type": "stream",
     "text": [
      "             precision    recall  f1-score   support\n",
      "\n",
      "          0       0.99      0.95      0.97      1759\n",
      "          1       0.86      0.97      0.91       579\n",
      "\n",
      "avg / total       0.96      0.95      0.95      2338\n",
      "\n"
     ]
    }
   ],
   "source": [
    "print(classification_report(y_test, y_pred))"
   ]
  },
  {
   "cell_type": "markdown",
   "metadata": {},
   "source": [
    "### 3.2 Precision-recall curve\n",
    "\n",
    "Precision-recall curves show the changes in precision and recall for different probability thresholds. That is, when we predict whether or not an email is spam, we get a probabliity. We could classify an email to be spam if `p >= 0.5` and not spam otherwise, but we can change that threshold."
   ]
  },
  {
   "cell_type": "markdown",
   "metadata": {},
   "source": [
    "Average precision:\n",
    "\n",
    "$ AP = \\sum_{n}(R_{n} - R_{n-1})P_{n} $"
   ]
  },
  {
   "cell_type": "code",
   "execution_count": 36,
   "metadata": {},
   "outputs": [],
   "source": [
    "average_precision = average_precision_score(y_test, y_score)"
   ]
  },
  {
   "cell_type": "markdown",
   "metadata": {},
   "source": [
    "Area under the precision-recall curve using the trapezoidal rule."
   ]
  },
  {
   "cell_type": "code",
   "execution_count": 37,
   "metadata": {},
   "outputs": [],
   "source": [
    "auc_score = roc_auc_score(y_test, y_score)"
   ]
  },
  {
   "cell_type": "code",
   "execution_count": 38,
   "metadata": {},
   "outputs": [],
   "source": [
    "y_score = clf.decision_function(X_test)\n",
    "precision, recall, thresholds = precision_recall_curve(y_test, y_score)"
   ]
  },
  {
   "cell_type": "code",
   "execution_count": 39,
   "metadata": {},
   "outputs": [
    {
     "data": {
      "image/png": "[encoded data removed]",
      "text/plain": [
       "<Figure size 432x288 with 1 Axes>"
      ]
     },
     "metadata": {},
     "output_type": "display_data"
    }
   ],
   "source": [
    "plt.step(recall, precision, color='b', alpha=0.2, where='post')\n",
    "plt.fill_between(recall, precision, step='post', alpha=0.2, color='b')\n",
    "\n",
    "plt.xlabel('Recall')\n",
    "plt.ylabel('Precision')\n",
    "plt.ylim([0.0, 1.0])\n",
    "plt.xlim([0.0, 1.0])\n",
    "plt.title('Precision-recall curve: AP={0:0.2f}, AUC={1:0.2f}'.format(average_precision, auc_score))\n",
    "plt.show()"
   ]
  },
  {
   "cell_type": "markdown",
   "metadata": {},
   "source": [
    "## 4 Top predictors of spam\n",
    "\n",
    "Shown below, there is an issue of our model picking up words that are specific to this data set. `spamassassinsight` seems to be referring to `spamassassin-sightings`, an e-mail list that some users refer to in these specific emails. If we were to generalize our model, we would need a more general vocabulary list, drawn from a more diverse data set, or we can adjust `CountVectorizer` in the pipeline (or do a grid search over some additional hyperparameters)."
   ]
  },
  {
   "cell_type": "code",
   "execution_count": 59,
   "metadata": {
    "scrolled": true
   },
   "outputs": [
    {
     "data": {
      "image/png": "[encoded data removed]",
      "text/plain": [
       "<Figure size 432x288 with 1 Axes>"
      ]
     },
     "metadata": {},
     "output_type": "display_data"
    }
   ],
   "source": [
    "def plot_top(coef, names, n=10):\n",
    "    coef_argsorted = np.argsort(coef)\n",
    "    feature_names_array = np.array(names)\n",
    "    words = []\n",
    "    values = []\n",
    "    for i in range(-n,0):\n",
    "        words.append(names[coef_argsorted[i]])\n",
    "        values.append(coef[coef_argsorted[i]])\n",
    "\n",
    "    y = np.arange(n)\n",
    "    plt.barh(y, values)\n",
    "    plt.yticks(y, words)\n",
    "    plt.xlabel('Coefficient')\n",
    "    plt.ylabel('Word')\n",
    "    plt.show()\n",
    "    \n",
    "plot_top(clf.best_estimator_.named_steps['svc'].coef_.toarray()[0], \n",
    "         clf.best_estimator_.named_steps['vect'].get_feature_names())"
   ]
  }
 ],
 "metadata": {
  "kernelspec": {
   "display_name": "Python 3",
   "language": "python",
   "name": "python3"
  },
  "language_info": {
   "codemirror_mode": {
    "name": "ipython",
    "version": 3
   },
   "file_extension": ".py",
   "mimetype": "text/x-python",
   "name": "python",
   "nbconvert_exporter": "python",
   "pygments_lexer": "ipython3",
   "version": "3.6.5"
  }
 },
 "nbformat": 4,
 "nbformat_minor": 2
}
