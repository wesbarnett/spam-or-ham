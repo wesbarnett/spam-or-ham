{
 "cells": [
  {
   "cell_type": "markdown",
   "metadata": {},
   "source": [
    "# Spam or Ham?\n",
    "\n",
    "This is an example of using machine learning to classify emails as either spam or ham (not spam). The emails used to build this classifier are from [SpamAssassin's Public Corpus](https://spamassassin.apache.org/old/publiccorpus/). "
   ]
  },
  {
   "cell_type": "code",
   "execution_count": 109,
   "metadata": {},
   "outputs": [],
   "source": [
    "from bs4 import BeautifulSoup\n",
    "from collections import Counter\n",
    "import email\n",
    "import joblib\n",
    "from nltk.stem.porter import PorterStemmer\n",
    "import numpy as np\n",
    "import pandas as pd\n",
    "import re\n",
    "import string"
   ]
  },
  {
   "cell_type": "markdown",
   "metadata": {},
   "source": [
    "## 1 Preprocessing"
   ]
  },
  {
   "cell_type": "code",
   "execution_count": 170,
   "metadata": {},
   "outputs": [],
   "source": [
    "def process_email(txt):\n",
    "    \"\"\"\n",
    "    Takes a text file, opens it, and read in the contents. From there the header of the email is stripped, \n",
    "    since we are keeping this program simple. All letters are made lowercase and line breaks removed. HTML \n",
    "    is stripped. Numbers, urls, email addresses, and dollar signs are translated into other terms. All \n",
    "    other punctuation is stripped. I use a porter stemmer to convert words to their stems and build up the \n",
    "    word list that will later be converted to features.\n",
    "    \"\"\"\n",
    "    if (type(txt) == bytes):\n",
    "        msg_email = email.message_from_bytes(txt)\n",
    "    else:\n",
    "        msg_email = email.message_from_string(txt)\n",
    "    word_list = []\n",
    "    stemmer = PorterStemmer()\n",
    "    msg = ''\n",
    "    if msg_email.is_multipart():\n",
    "        for part in msg_email.walk():\n",
    "            ctype = part.get_content_type()\n",
    "            cdispo = str(part.get('Content-Disposition'))\n",
    "            # skip any text/plain (txt) attachments\n",
    "            if ctype == 'text/plain' and 'attachment' not in cdispo:\n",
    "                body = part.get_payload()\n",
    "                break\n",
    "    else:\n",
    "        msg = msg_email.get_payload()\n",
    "        \n",
    "    # Conver to all lowercase\n",
    "    msg = msg.lower()\n",
    "    \n",
    "    # Remove line breaks\n",
    "    msg = re.sub('\\n', ' ', msg)\n",
    "    msg = re.sub('\\t', ' ', msg)\n",
    "    \n",
    "    # Stip HTML\n",
    "    soup = BeautifulSoup(msg, 'lxml')\n",
    "    msg = soup.get_text()\n",
    "    \n",
    "    # Convert numbers, urls, email addresses, and dollar signs\n",
    "    msg = re.sub('[0-9]+', 'number', msg)\n",
    "    msg = re.sub('(http|https)://[^\\s]*', 'httpaddr', msg)\n",
    "    msg = re.sub('[^\\s]+@[^\\s]+', 'emailaddr', msg)\n",
    "    msg = re.sub('[$]+', 'dollar', msg)\n",
    "    \n",
    "    # Remove additional punctuation\n",
    "    table = str.maketrans({key: None for key in string.punctuation})\n",
    "    msg = msg.translate(table)\n",
    "    return msg"
   ]
  },
  {
   "cell_type": "markdown",
   "metadata": {},
   "source": [
    "### 1.1 Load the text files"
   ]
  },
  {
   "cell_type": "code",
   "execution_count": 171,
   "metadata": {},
   "outputs": [],
   "source": [
    "from sklearn.datasets import load_files"
   ]
  },
  {
   "cell_type": "code",
   "execution_count": 172,
   "metadata": {},
   "outputs": [],
   "source": [
    "emails = load_files('data/')"
   ]
  },
  {
   "cell_type": "code",
   "execution_count": 173,
   "metadata": {},
   "outputs": [
    {
     "data": {
      "text/plain": [
       "['ham', 'spam']"
      ]
     },
     "execution_count": 173,
     "metadata": {},
     "output_type": "execute_result"
    }
   ],
   "source": [
    "emails.target_names"
   ]
  },
  {
   "cell_type": "markdown",
   "metadata": {},
   "source": [
    "### 1.2 Split data into train and test sets"
   ]
  },
  {
   "cell_type": "code",
   "execution_count": 174,
   "metadata": {},
   "outputs": [],
   "source": [
    "from sklearn.model_selection import train_test_split"
   ]
  },
  {
   "cell_type": "code",
   "execution_count": 175,
   "metadata": {},
   "outputs": [],
   "source": [
    "emails_train, emails_test, y_train, y_test = train_test_split(emails.data, emails.target)"
   ]
  },
  {
   "cell_type": "markdown",
   "metadata": {},
   "source": [
    "### 1.3 Convert emails to feature vectors\n",
    "\n",
    "The vocabulary list is used to convert the processed emails into a feature vector. If a vocabulary word is in the email, it is represented as a `1`; otherwise, it is a `0`. "
   ]
  },
  {
   "cell_type": "code",
   "execution_count": 176,
   "metadata": {},
   "outputs": [
    {
     "data": {
      "text/plain": [
       "b'From mgm@starlingtech.com  Fri Sep 20 11:29:51 2002\\nReturn-Path: <mgm@starlingtech.com>\\nDelivered-To: yyyy@localhost.spamassassin.taint.org\\nReceived: from localhost (jalapeno [127.0.0.1])\\n\\tby jmason.org (Postfix) with ESMTP id E7ADD16F03\\n\\tfor <jm@localhost>; Fri, 20 Sep 2002 11:29:50 +0100 (IST)\\nReceived: from jalapeno [127.0.0.1]\\n\\tby localhost with IMAP (fetchmail-5.9.0)\\n\\tfor jm@localhost (single-drop); Fri, 20 Sep 2002 11:29:50 +0100 (IST)\\nReceived: from host.yrex.com (yrex.com [216.40.247.31]) by\\n    dogma.slashnull.org (8.11.6/8.11.6) with SMTP id g8K3gaC19028 for\\n    <jm@jmason.org>; Fri, 20 Sep 2002 04:42:42 +0100\\nReceived: (qmail 18798 invoked from network); 20 Sep 2002 03:43:04 -0000\\nReceived: from mgm.dsl.xmission.com (HELO opus) (204.228.152.186) by\\n    yrex.com with SMTP; 20 Sep 2002 03:43:04 -0000\\nFrom: \"Michael Moncur\" <mgm@starlingtech.com>\\nTo: \"Justin Mason\" <yyyy@spamassassin.taint.org>,\\n\\t\"Daniel Quinlan\" <quinlan@pathname.com>\\nCc: <SpamAssassin-devel@example.sourceforge.net>\\nSubject: RE: [SAdev] phew!\\nDate: Thu, 19 Sep 2002 21:42:52 -0600\\nMessage-Id: <NEBBKLEDELIODOCJHLPCGEOHNCAA.mgm@starlingtech.com>\\nMIME-Version: 1.0\\nContent-Type: text/plain; charset=\"iso-8859-1\"\\nContent-Transfer-Encoding: 7bit\\nX-Priority: 3 (Normal)\\nX-Msmail-Priority: Normal\\nX-Mailer: Microsoft Outlook IMO, Build 9.0.2416 (9.0.2910.0)\\nImportance: Normal\\nX-Mimeole: Produced By Microsoft MimeOLE V6.00.2600.0000\\nIn-Reply-To: <20020919113604.D475F16F1C@spamassassin.taint.org>\\n\\n> Yes, I think some others, (mgm?) have spamtrap data in there too.\\n>\\n\\nMy corpus is about 50% spamtrap spam at any given time. Let me know if I\\nshould leave that out next time, I do keep it separate. My spamtraps are\\npretty clean of viruses and bounce messages most of the time.\\n\\n--\\nMichael Moncur  mgm at starlingtech.com  http://www.starlingtech.com/\\n\"Lack of money is no obstacle. Lack of an idea is an obstacle.\" --Ken Hakuta\\n\\n\\n'"
      ]
     },
     "execution_count": 176,
     "metadata": {},
     "output_type": "execute_result"
    }
   ],
   "source": [
    "emails_train[0]"
   ]
  },
  {
   "cell_type": "code",
   "execution_count": 177,
   "metadata": {},
   "outputs": [
    {
     "data": {
      "text/plain": [
       "' yes i think some others mgm have spamtrap data in there too   my corpus is about number spamtrap spam at any given time let me know if i should leave that out next time i do keep it separate my spamtraps are pretty clean of viruses and bounce messages most of the time   michael moncur  mgm at starlingtechcom  httpaddr lack of money is no obstacle lack of an idea is an obstacle ken hakuta   '"
      ]
     },
     "execution_count": 177,
     "metadata": {},
     "output_type": "execute_result"
    }
   ],
   "source": [
    "process_email(emails_train[0])"
   ]
  },
  {
   "cell_type": "code",
   "execution_count": 178,
   "metadata": {},
   "outputs": [],
   "source": [
    "from sklearn.feature_extraction.text import CountVectorizer"
   ]
  },
  {
   "cell_type": "code",
   "execution_count": 179,
   "metadata": {},
   "outputs": [],
   "source": [
    "vect = CountVectorizer(max_features=2000, \n",
    "                       preprocessor=process_email,\n",
    "                       decode_error='ignore')\n",
    "vect.fit(emails_train)\n",
    "X_train = vect.transform(emails_train)\n",
    "X_test = vect.transform(emails_test)"
   ]
  },
  {
   "cell_type": "code",
   "execution_count": 180,
   "metadata": {},
   "outputs": [
    {
     "data": {
      "text/plain": [
       "array([[0, 0, 1, ..., 0, 0, 0]])"
      ]
     },
     "execution_count": 180,
     "metadata": {},
     "output_type": "execute_result"
    }
   ],
   "source": [
    "X_train[0].toarray()"
   ]
  },
  {
   "cell_type": "markdown",
   "metadata": {},
   "source": [
    "## 2 Support Vector Machine"
   ]
  },
  {
   "cell_type": "code",
   "execution_count": 189,
   "metadata": {},
   "outputs": [],
   "source": [
    "from sklearn.model_selection import train_test_split, GridSearchCV\n",
    "from sklearn.metrics import precision_recall_curve, average_precision_score, classification_report\n",
    "from sklearn.svm import SVC\n",
    "import matplotlib.pyplot as plt\n",
    "import numpy as np\n",
    "import pandas as pd\n",
    "import joblib"
   ]
  },
  {
   "cell_type": "markdown",
   "metadata": {},
   "source": [
    "### 2.1 Grid search and cross-validation on train set"
   ]
  },
  {
   "cell_type": "code",
   "execution_count": 182,
   "metadata": {},
   "outputs": [
    {
     "data": {
      "text/plain": [
       "['clf.gz']"
      ]
     },
     "execution_count": 182,
     "metadata": {},
     "output_type": "execute_result"
    }
   ],
   "source": [
    "tuned_parameters = [{'C': np.logspace(-3,3,7)}]\n",
    "clf = GridSearchCV(SVC(kernel='linear'), param_grid=tuned_parameters, cv=5, \n",
    "                   scoring=\"f1\", return_train_score=True).fit(X_train, y_train)\n",
    "joblib.dump(clf, 'clf.gz')"
   ]
  },
  {
   "cell_type": "code",
   "execution_count": 183,
   "metadata": {},
   "outputs": [],
   "source": [
    "clf = joblib.load('clf.gz')\n",
    "results = pd.DataFrame(clf.cv_results_)"
   ]
  },
  {
   "cell_type": "markdown",
   "metadata": {},
   "source": [
    "### 2.2 Validation curve"
   ]
  },
  {
   "cell_type": "code",
   "execution_count": 184,
   "metadata": {},
   "outputs": [
    {
     "data": {
      "image/png": "[encoded data removed]",
      "text/plain": [
       "<Figure size 432x288 with 1 Axes>"
      ]
     },
     "metadata": {},
     "output_type": "display_data"
    }
   ],
   "source": [
    "results.plot('param_C', 'mean_train_score', label='Train score')\n",
    "results.plot('param_C', 'mean_test_score', label='Test score', ax=plt.gca())\n",
    "plt.fill_between(results.param_C.astype(np.float),\n",
    "                 results['mean_train_score'] + results['std_train_score'],\n",
    "                 results['mean_train_score'] - results['std_train_score'], \n",
    "                 alpha=0.2)\n",
    "plt.fill_between(results.param_C.astype(np.float),\n",
    "                 results['mean_test_score'] + results['std_test_score'],\n",
    "                 results['mean_test_score'] - results['std_test_score'], \n",
    "                 alpha=0.2)\n",
    "plt.xscale('log')\n",
    "plt.xlabel('C')\n",
    "plt.ylabel('Score')\n",
    "plt.legend()\n",
    "plt.show()"
   ]
  },
  {
   "cell_type": "markdown",
   "metadata": {},
   "source": [
    "### 2.3 Precision-recall curve"
   ]
  },
  {
   "cell_type": "code",
   "execution_count": 185,
   "metadata": {},
   "outputs": [],
   "source": [
    "y_score = clf.decision_function(X_test)\n",
    "average_precision = average_precision_score(y_test, y_score)\n",
    "precision, recall, _ = precision_recall_curve(y_test, y_score)"
   ]
  },
  {
   "cell_type": "code",
   "execution_count": 186,
   "metadata": {},
   "outputs": [
    {
     "data": {
      "image/png": "[encoded data removed]",
      "text/plain": [
       "<Figure size 432x288 with 1 Axes>"
      ]
     },
     "metadata": {},
     "output_type": "display_data"
    }
   ],
   "source": [
    "plt.step(recall, precision, color='b', alpha=0.2, where='post')\n",
    "plt.fill_between(recall, precision, step='post', alpha=0.2, color='b')\n",
    "\n",
    "plt.xlabel('Recall')\n",
    "plt.ylabel('Precision')\n",
    "plt.ylim([0.0, 1.0])\n",
    "plt.xlim([0.0, 1.0])\n",
    "plt.title('Precision-recall curve: AP={0:0.2f}'.format(average_precision))\n",
    "plt.show()"
   ]
  },
  {
   "cell_type": "markdown",
   "metadata": {},
   "source": [
    "### 2.4 Evaluation of test set"
   ]
  },
  {
   "cell_type": "code",
   "execution_count": 187,
   "metadata": {},
   "outputs": [],
   "source": [
    "y_true, y_pred = y_test, clf.predict(X_test)"
   ]
  },
  {
   "cell_type": "code",
   "execution_count": 190,
   "metadata": {},
   "outputs": [
    {
     "name": "stdout",
     "output_type": "stream",
     "text": [
      "             precision    recall  f1-score   support\n",
      "\n",
      "          0       0.99      0.94      0.97      1752\n",
      "          1       0.85      0.98      0.91       586\n",
      "\n",
      "avg / total       0.96      0.95      0.95      2338\n",
      "\n"
     ]
    }
   ],
   "source": [
    "print(classification_report(y_true, y_pred))"
   ]
  },
  {
   "cell_type": "code",
   "execution_count": 191,
   "metadata": {},
   "outputs": [
    {
     "name": "stdout",
     "output_type": "stream",
     "text": [
      "Training accuracy: 0.931\n"
     ]
    }
   ],
   "source": [
    "print(\"Training accuracy: {0:.3}\".format(clf.score(X_train, y_train)))"
   ]
  },
  {
   "cell_type": "code",
   "execution_count": 192,
   "metadata": {},
   "outputs": [
    {
     "name": "stdout",
     "output_type": "stream",
     "text": [
      "Test accuracy: 0.911\n"
     ]
    }
   ],
   "source": [
    "print(\"Test accuracy: {0:.3}\".format(clf.score(X_test, y_test)))"
   ]
  },
  {
   "cell_type": "markdown",
   "metadata": {},
   "source": [
    "### 2.5 Top and bottom predictors of spam\n",
    "\n",
    "Clearly there is an issue of our model picking up words that are specific to this data set. `spamassassinsight` seems to be referring to `spamassassin-sightings`, an e-mail list that some users refer to. `deathtospamdeathtospamdeathtospam` comes from someone's signature. If we were to generalize our model, we would need a more general vocabulary list, drawn from a more diverse data set."
   ]
  },
  {
   "cell_type": "code",
   "execution_count": 204,
   "metadata": {
    "scrolled": true
   },
   "outputs": [
    {
     "data": {
      "image/png": "[encoded data removed]",
      "text/plain": [
       "<Figure size 432x288 with 1 Axes>"
      ]
     },
     "metadata": {},
     "output_type": "display_data"
    }
   ],
   "source": [
    "def plot_top_bot(coef, names, n=10):\n",
    "    coef_argsorted = np.argsort(coef)\n",
    "    feature_names_array = np.array(names)\n",
    "    words = []\n",
    "    values = []\n",
    "    for i in range(0,n):\n",
    "        words.append(names[coef_argsorted[i]])\n",
    "        values.append(coef[coef_argsorted[i]])\n",
    "\n",
    "    for i in range(-n,0):\n",
    "        words.append(names[coef_argsorted[i]])\n",
    "        values.append(coef[coef_argsorted[i]])\n",
    "    y = np.arange(n*2)\n",
    "    plt.barh(y, values)\n",
    "    plt.yticks(y, words)\n",
    "    plt.xlabel('Coefficient')\n",
    "    plt.ylabel('Word')\n",
    "    plt.show()\n",
    "    \n",
    "plot_top_bot(clf.best_estimator_.coef_.toarray()[0], vect.get_feature_names())"
   ]
  }
 ],
 "metadata": {
  "kernelspec": {
   "display_name": "Python 3",
   "language": "python",
   "name": "python3"
  },
  "language_info": {
   "codemirror_mode": {
    "name": "ipython",
    "version": 3
   },
   "file_extension": ".py",
   "mimetype": "text/x-python",
   "name": "python",
   "nbconvert_exporter": "python",
   "pygments_lexer": "ipython3",
   "version": "3.6.5"
  }
 },
 "nbformat": 4,
 "nbformat_minor": 2
}
