{
 "cells": [
  {
   "cell_type": "markdown",
   "metadata": {},
   "source": [
    "# Spam or Ham?\n",
    "\n",
    "This is an example of using machine learning to classify emails as either spam or ham (not spam). The emails used to train this classifier are from [SpamAssassin's Public Corpus](https://spamassassin.apache.org/old/publiccorpus/). "
   ]
  },
  {
   "cell_type": "code",
   "execution_count": null,
   "metadata": {},
   "outputs": [],
   "source": [
    "from bs4 import BeautifulSoup\n",
    "import email\n",
    "import joblib\n",
    "from nltk.stem.porter import PorterStemmer\n",
    "import numpy as np\n",
    "import pandas as pd\n",
    "import re\n",
    "from sklearn.feature_extraction.text import CountVectorizer\n",
    "import string"
   ]
  },
  {
   "cell_type": "markdown",
   "metadata": {},
   "source": [
    "## 1 Preprocessing"
   ]
  },
  {
   "cell_type": "code",
   "execution_count": 34,
   "metadata": {},
   "outputs": [],
   "source": [
    "def process_email(txt):\n",
    "    \"\"\"\n",
    "    Takes an email message and cleans it up for use with CountVectorizer().\n",
    "    \"\"\"\n",
    "    if (type(txt) == bytes):\n",
    "        msg_email = email.message_from_bytes(txt)\n",
    "    else:\n",
    "        msg_email = email.message_from_string(txt)\n",
    "        \n",
    "    # Only use the message body\n",
    "    msg = ''\n",
    "    if msg_email.is_multipart():\n",
    "        for part in msg_email.walk():\n",
    "            ctype = part.get_content_type()\n",
    "            cdispo = str(part.get('Content-Disposition'))\n",
    "            # skip any text/plain (txt) attachments\n",
    "            if ctype == 'text/plain' and 'attachment' not in cdispo:\n",
    "                body = part.get_payload()\n",
    "                break\n",
    "    else:\n",
    "        msg = msg_email.get_payload()\n",
    "        \n",
    "    # Conver to all lowercase\n",
    "    msg = msg.lower()\n",
    "    \n",
    "    # Remove line breaks\n",
    "    msg = re.sub('\\n', ' ', msg)\n",
    "    msg = re.sub('\\t', ' ', msg)\n",
    "    \n",
    "    # Stip HTML\n",
    "    soup = BeautifulSoup(msg, 'lxml')\n",
    "    msg = soup.get_text()\n",
    "    \n",
    "    # Convert numbers, urls, email addresses, and dollar signs\n",
    "    msg = re.sub('[0-9]+', 'number', msg)\n",
    "    msg = re.sub('(http|https)://[^\\s]*', 'httpaddr', msg)\n",
    "    msg = re.sub('[^\\s]+@[^\\s]+', 'emailaddr', msg)\n",
    "    msg = re.sub('[$]+', 'dollar', msg)\n",
    "    \n",
    "    # Remove additional punctuation\n",
    "    table = str.maketrans({key: None for key in string.punctuation})\n",
    "    msg = msg.translate(table)\n",
    "    return msg\n",
    "\n",
    "stemmer = PorterStemmer()\n",
    "analyzer = CountVectorizer(decode_error='ignore').build_analyzer()\n",
    "\n",
    "def stemmed_words(doc):\n",
    "    doc = process_email(doc)\n",
    "    return (stemmer.stem(w) for w in analyzer(doc))"
   ]
  },
  {
   "cell_type": "markdown",
   "metadata": {},
   "source": [
    "### 1.1 Load the text files\n",
    "`load_files` is a nice function for loading large amounts of data. I have the spam emails in `./data/spam` and the ham emails in `./data/ham`. `load_files` automatically classifies the documents based on which folder they are in."
   ]
  },
  {
   "cell_type": "code",
   "execution_count": 2,
   "metadata": {},
   "outputs": [],
   "source": [
    "from sklearn.datasets import load_files"
   ]
  },
  {
   "cell_type": "code",
   "execution_count": 3,
   "metadata": {},
   "outputs": [],
   "source": [
    "emails = load_files('data/')"
   ]
  },
  {
   "cell_type": "code",
   "execution_count": 4,
   "metadata": {},
   "outputs": [
    {
     "data": {
      "text/plain": [
       "['ham', 'spam']"
      ]
     },
     "execution_count": 4,
     "metadata": {},
     "output_type": "execute_result"
    }
   ],
   "source": [
    "emails.target_names"
   ]
  },
  {
   "cell_type": "code",
   "execution_count": 5,
   "metadata": {},
   "outputs": [
    {
     "data": {
      "text/plain": [
       "array([0, 1, 0, ..., 0, 0, 0])"
      ]
     },
     "execution_count": 5,
     "metadata": {},
     "output_type": "execute_result"
    }
   ],
   "source": [
    "emails.target"
   ]
  },
  {
   "cell_type": "markdown",
   "metadata": {},
   "source": [
    "### 1.2 Split data into train and test sets\n",
    "`train_test_split` shuffles the data by default and splits the data into training and test sets."
   ]
  },
  {
   "cell_type": "code",
   "execution_count": 7,
   "metadata": {},
   "outputs": [],
   "source": [
    "from sklearn.model_selection import train_test_split"
   ]
  },
  {
   "cell_type": "code",
   "execution_count": 8,
   "metadata": {},
   "outputs": [],
   "source": [
    "X_train, X_test, y_train, y_test = train_test_split(emails.data, emails.target)"
   ]
  },
  {
   "cell_type": "markdown",
   "metadata": {},
   "source": [
    "Here's one example of an email before and after it is processed (before stemming)."
   ]
  },
  {
   "cell_type": "code",
   "execution_count": 9,
   "metadata": {},
   "outputs": [
    {
     "data": {
      "text/plain": [
       "b'From ilug-admin@linux.ie  Fri Sep  6 11:40:08 2002\\nReturn-Path: <ilug-admin@linux.ie>\\nDelivered-To: zzzz@localhost.example.com\\nReceived: from localhost (jalapeno [127.0.0.1])\\n\\tby example.com (Postfix) with ESMTP id AE33716F56\\n\\tfor <zzzz@localhost>; Fri,  6 Sep 2002 11:38:08 +0100 (IST)\\nReceived: from jalapeno [127.0.0.1]\\n\\tby localhost with IMAP (fetchmail-5.9.0)\\n\\tfor zzzz@localhost (single-drop); Fri, 06 Sep 2002 11:38:08 +0100 (IST)\\nReceived: from webnote.net (mail.webnote.net [193.120.211.219]) by\\n    dogma.slashnull.org (8.11.6/8.11.6) with ESMTP id g86921C27133 for\\n    <zzzz-ilug@example.com>; Fri, 6 Sep 2002 10:02:02 +0100\\nReceived: from lugh.tuatha.org (root@lugh.tuatha.org [194.125.145.45]) by\\n    webnote.net (8.9.3/8.9.3) with ESMTP id DAA19755 for <zzzz-ilug@example.com>;\\n    Fri, 6 Sep 2002 03:14:46 +0100\\nReceived: from lugh (root@localhost [127.0.0.1]) by lugh.tuatha.org\\n    (8.9.3/8.9.3) with ESMTP id DAA21093; Fri, 6 Sep 2002 03:13:57 +0100\\nX-Authentication-Warning: lugh.tuatha.org: Host root@localhost [127.0.0.1]\\n    claimed to be lugh\\nReceived: from linuxmafia.com (linuxmafia.COM [198.144.195.186]) by\\n    lugh.tuatha.org (8.9.3/8.9.3) with ESMTP id DAA21056 for <ilug@linux.ie>;\\n    Fri, 6 Sep 2002 03:13:44 +0100\\nReceived: from rick by linuxmafia.com with local (Exim 3.35 #1 (Debian))\\n    id 17n8dx-0002w4-00 for <ilug@linux.ie>; Thu, 05 Sep 2002 19:14:45 -0700\\nDate: Thu, 5 Sep 2002 19:14:45 -0700\\nTo: Irish Linux Users Group <ilug@linux.ie>\\nSubject: Re: [ILUG] modem problems\\nMessage-Id: <20020906021444.GK12787@linuxmafia.com>\\nReferences: <6561EF50BF493D4B9B161C6FA41932C34998CE@ns1.ward.ie>\\n    <20020904130735.B2712@barge.tcd.ie>\\n    <1031141868.1361.2.camel@ishmael.niallsheridan.com>\\n    <3D75F9CF.9040306@waider.ie>\\nMIME-Version: 1.0\\nContent-Type: text/plain; charset=us-ascii\\nContent-Disposition: inline\\nIn-Reply-To: <3D75F9CF.9040306@waider.ie>\\nUser-Agent: Mutt/1.4i\\nFrom: Rick Moen <rick@linuxmafia.com>\\nSender: ilug-admin@linux.ie\\nErrors-To: ilug-admin@linux.ie\\nX-Mailman-Version: 1.1\\nPrecedence: bulk\\nList-Id: Irish Linux Users\\' Group <ilug.linux.ie>\\nX-Beenthere: ilug@linux.ie\\n\\nQuoting Waider (waider@waider.ie):\\n\\n> Niall Sheridan wrote:\\n> | A power cycle will do it.\\n> | Other than that it\\'s chipset specific.\\n> \\n> sure. tried powercycling an internal modem recently? :)\\n> \\n> Waider. This is Rick Moen bait.\\n\\nThanks.  It was delicious.  ;->\\n\\n-- \\nCheers,               \"That article and its poster have been cancelled.\" \\nRick Moen                   -- David B. O\\'Donnel, sysadmin for America Online\\nrick@linuxmafia.com\\n\\n-- \\nIrish Linux Users\\' Group: ilug@linux.ie\\nhttp://www.linux.ie/mailman/listinfo/ilug for (un)subscription information.\\nList maintainer: listmaster@linux.ie\\n\\n'"
      ]
     },
     "execution_count": 9,
     "metadata": {},
     "output_type": "execute_result"
    }
   ],
   "source": [
    "X_train[0]"
   ]
  },
  {
   "cell_type": "code",
   "execution_count": 13,
   "metadata": {},
   "outputs": [
    {
     "data": {
      "text/plain": [
       "'quoting waider emailaddr   niall sheridan wrote   a power cycle will do it   other than that its chipset specific    sure tried powercycling an internal modem recently     waider this is rick moen bait  thanks  it was delicious      cheers               that article and its poster have been cancelled  rick moen                    david b odonnel sysadmin for america online emailaddr    irish linux users group emailaddr httpaddr for unsubscription information list maintainer emailaddr  '"
      ]
     },
     "execution_count": 13,
     "metadata": {},
     "output_type": "execute_result"
    }
   ],
   "source": [
    "process_email(X_train[0])"
   ]
  },
  {
   "cell_type": "markdown",
   "metadata": {},
   "source": [
    "## 2 Support Vector Machine"
   ]
  },
  {
   "cell_type": "code",
   "execution_count": 16,
   "metadata": {},
   "outputs": [],
   "source": [
    "from sklearn.model_selection import train_test_split, GridSearchCV\n",
    "from sklearn.metrics import precision_recall_curve, average_precision_score, classification_report\n",
    "from sklearn.svm import SVC\n",
    "from sklearn.feature_extraction.text import CountVectorizer\n",
    "from sklearn.pipeline import Pipeline\n",
    "import matplotlib.pyplot as plt\n",
    "import numpy as np\n",
    "import pandas as pd\n",
    "import joblib"
   ]
  },
  {
   "cell_type": "markdown",
   "metadata": {},
   "source": [
    "### 2.1 Grid search and cross-validation on train set\n",
    "\n",
    "We convert the emails into feature vectors which tell whether or not a word occurs in the email. This is a grid search that tries different values of `C` for the SVC. We setup `CountVectorizer` to use stemming and process via our custom process function."
   ]
  },
  {
   "cell_type": "code",
   "execution_count": 47,
   "metadata": {},
   "outputs": [],
   "source": [
    "pipeline = Pipeline([\n",
    "    ('vect', CountVectorizer(max_features=2000, \n",
    "                             decode_error='ignore',\n",
    "                             binary=True,\n",
    "                             analyzer=stemmed_words)),\n",
    "    ('svc', SVC(kernel='linear')),\n",
    "])"
   ]
  },
  {
   "cell_type": "markdown",
   "metadata": {},
   "source": [
    "A quick check to see if our CountVectorizer is working like we think."
   ]
  },
  {
   "cell_type": "code",
   "execution_count": 48,
   "metadata": {},
   "outputs": [
    {
     "data": {
      "text/plain": [
       "['america',\n",
       " 'an',\n",
       " 'and',\n",
       " 'articl',\n",
       " 'bait',\n",
       " 'been',\n",
       " 'cancel',\n",
       " 'cheer',\n",
       " 'chipset',\n",
       " 'cycl',\n",
       " 'david',\n",
       " 'delici',\n",
       " 'do',\n",
       " 'emailaddr',\n",
       " 'for',\n",
       " 'group',\n",
       " 'have',\n",
       " 'httpaddr',\n",
       " 'inform',\n",
       " 'intern',\n",
       " 'irish',\n",
       " 'is',\n",
       " 'it',\n",
       " 'linux',\n",
       " 'list',\n",
       " 'maintain',\n",
       " 'modem',\n",
       " 'moen',\n",
       " 'niall',\n",
       " 'odonnel',\n",
       " 'onlin',\n",
       " 'other',\n",
       " 'poster',\n",
       " 'power',\n",
       " 'powercycl',\n",
       " 'quot',\n",
       " 'recent',\n",
       " 'rick',\n",
       " 'sheridan',\n",
       " 'specif',\n",
       " 'sure',\n",
       " 'sysadmin',\n",
       " 'than',\n",
       " 'thank',\n",
       " 'that',\n",
       " 'thi',\n",
       " 'tri',\n",
       " 'unsubscript',\n",
       " 'user',\n",
       " 'wa',\n",
       " 'waider',\n",
       " 'will',\n",
       " 'wrote']"
      ]
     },
     "execution_count": 48,
     "metadata": {},
     "output_type": "execute_result"
    }
   ],
   "source": [
    "vect = CountVectorizer(decode_error='ignore', binary=True, analyzer=stemmed_words)\n",
    "vect.fit_transform([X_train[0]])\n",
    "vect.get_feature_names()"
   ]
  },
  {
   "cell_type": "code",
   "execution_count": 49,
   "metadata": {},
   "outputs": [
    {
     "name": "stdout",
     "output_type": "stream",
     "text": [
      "Fitting 5 folds for each of 5 candidates, totalling 25 fits\n",
      "[CV] svc__C=0.01 .....................................................\n",
      "[CV] svc__C=0.01 .....................................................\n",
      "[CV] svc__C=0.01 .....................................................\n",
      "[CV] ............ svc__C=0.01, score=0.9023136246786633, total= 1.4min\n",
      "[CV] svc__C=0.01 .....................................................\n",
      "[CV] ............. svc__C=0.01, score=0.858034321372855, total= 1.3min\n",
      "[CV] svc__C=0.01 .....................................................\n"
     ]
    },
    {
     "name": "stderr",
     "output_type": "stream",
     "text": [
      "[Parallel(n_jobs=3)]: Done   2 tasks      | elapsed:  2.5min\n"
     ]
    },
    {
     "name": "stdout",
     "output_type": "stream",
     "text": [
      "[CV] ............ svc__C=0.01, score=0.8593508500772797, total= 1.4min\n",
      "[CV] svc__C=0.1 ......................................................\n",
      "[CV] ............ svc__C=0.01, score=0.8682170542635658, total= 1.4min\n",
      "[CV] svc__C=0.1 ......................................................\n",
      "[CV] ............ svc__C=0.01, score=0.9010416666666666, total= 1.5min\n",
      "[CV] svc__C=0.1 ......................................................\n",
      "[CV] .............. svc__C=0.1, score=0.904040404040404, total= 1.3min\n",
      "[CV] svc__C=0.1 ......................................................\n",
      "[CV] .............. svc__C=0.1, score=0.924066924066924, total= 1.3min\n",
      "[CV] svc__C=0.1 ......................................................\n"
     ]
    },
    {
     "name": "stderr",
     "output_type": "stream",
     "text": [
      "[Parallel(n_jobs=3)]: Done   7 tasks      | elapsed:  7.0min\n"
     ]
    },
    {
     "name": "stdout",
     "output_type": "stream",
     "text": [
      "[CV] ............. svc__C=0.1, score=0.8978562421185371, total= 1.2min\n",
      "[CV] svc__C=1.0 ......................................................\n",
      "[CV] ............. svc__C=0.1, score=0.9238709677419354, total= 1.4min\n",
      "[CV] svc__C=1.0 ......................................................\n",
      "[CV] ............. svc__C=0.1, score=0.9093231162196679, total= 1.2min\n",
      "[CV] svc__C=1.0 ......................................................\n",
      "[CV] ............. svc__C=1.0, score=0.8964646464646465, total= 1.3min\n",
      "[CV] svc__C=1.0 ......................................................\n",
      "[CV] ............. svc__C=1.0, score=0.9234760051880674, total= 1.4min\n",
      "[CV] svc__C=1.0 ......................................................\n"
     ]
    },
    {
     "name": "stderr",
     "output_type": "stream",
     "text": [
      "[Parallel(n_jobs=3)]: Done  12 tasks      | elapsed:  9.8min\n"
     ]
    },
    {
     "name": "stdout",
     "output_type": "stream",
     "text": [
      "[CV] .............. svc__C=1.0, score=0.922680412371134, total= 1.4min\n",
      "[CV] svc__C=10.0 .....................................................\n",
      "[CV] ............. svc__C=1.0, score=0.8908629441624365, total= 1.3min\n",
      "[CV] svc__C=10.0 .....................................................\n",
      "[CV] ............. svc__C=1.0, score=0.8987341772151899, total= 1.4min\n",
      "[CV] svc__C=10.0 .....................................................\n",
      "[CV] ............ svc__C=10.0, score=0.8964646464646465, total= 1.2min\n",
      "[CV] svc__C=10.0 .....................................................\n",
      "[CV] ............ svc__C=10.0, score=0.9232769830949284, total= 1.4min\n",
      "[CV] svc__C=10.0 .....................................................\n",
      "[CV] ............. svc__C=10.0, score=0.922680412371134, total= 1.4min\n",
      "[CV] svc__C=100.0 ....................................................\n",
      "[CV] ............ svc__C=10.0, score=0.8955974842767296, total= 1.3min\n",
      "[CV] svc__C=100.0 ....................................................\n"
     ]
    },
    {
     "name": "stderr",
     "output_type": "stream",
     "text": [
      "[Parallel(n_jobs=3)]: Done  19 tasks      | elapsed: 15.7min\n"
     ]
    },
    {
     "name": "stdout",
     "output_type": "stream",
     "text": [
      "[CV] ............ svc__C=10.0, score=0.9035532994923858, total= 1.5min\n",
      "[CV] svc__C=100.0 ....................................................\n",
      "[CV] ........... svc__C=100.0, score=0.8964646464646465, total= 1.3min\n",
      "[CV] svc__C=100.0 ....................................................\n",
      "[CV] ........... svc__C=100.0, score=0.9232769830949284, total= 1.4min\n",
      "[CV] svc__C=100.0 ....................................................\n",
      "[CV] ............ svc__C=100.0, score=0.922680412371134, total= 1.2min\n"
     ]
    },
    {
     "name": "stderr",
     "output_type": "stream",
     "text": [
      "[Parallel(n_jobs=3)]: Done  23 out of  25 | elapsed: 19.2min remaining:  1.7min\n"
     ]
    },
    {
     "name": "stdout",
     "output_type": "stream",
     "text": [
      "[CV] ........... svc__C=100.0, score=0.8955974842767296, total= 1.3min\n",
      "[CV] ........... svc__C=100.0, score=0.9035532994923858, total= 1.3min\n"
     ]
    },
    {
     "name": "stderr",
     "output_type": "stream",
     "text": [
      "[Parallel(n_jobs=3)]: Done  25 out of  25 | elapsed: 20.3min finished\n"
     ]
    },
    {
     "data": {
      "text/plain": [
       "['clf.gz']"
      ]
     },
     "execution_count": 49,
     "metadata": {},
     "output_type": "execute_result"
    }
   ],
   "source": [
    "tuned_parameters = [{'svc__C': np.logspace(-2,2,5)}]\n",
    "clf = GridSearchCV(pipeline, param_grid=tuned_parameters, \n",
    "                   scoring=\"f1\", return_train_score=True,\n",
    "                   verbose=10, n_jobs=3, cv=5)\n",
    "clf.fit(X_train, y_train)\n",
    "joblib.dump(clf, 'clf.gz')"
   ]
  },
  {
   "cell_type": "code",
   "execution_count": 50,
   "metadata": {},
   "outputs": [],
   "source": [
    "clf = joblib.load('clf.gz')\n",
    "results = pd.DataFrame(clf.cv_results_)"
   ]
  },
  {
   "cell_type": "markdown",
   "metadata": {},
   "source": [
    "### 2.2 Validation curve"
   ]
  },
  {
   "cell_type": "code",
   "execution_count": 52,
   "metadata": {},
   "outputs": [
    {
     "data": {
      "image/png": "[encoded data removed]",
      "text/plain": [
       "<Figure size 432x288 with 1 Axes>"
      ]
     },
     "metadata": {},
     "output_type": "display_data"
    }
   ],
   "source": [
    "results.plot('param_svc__C', 'mean_train_score', label='Train score')\n",
    "results.plot('param_svc__C', 'mean_test_score', label='Test score', ax=plt.gca())\n",
    "plt.fill_between(results.param_svc__C.astype(np.float),\n",
    "                 results['mean_train_score'] + results['std_train_score'],\n",
    "                 results['mean_train_score'] - results['std_train_score'], \n",
    "                 alpha=0.2)\n",
    "plt.fill_between(results.param_svc__C.astype(np.float),\n",
    "                 results['mean_test_score'] + results['std_test_score'],\n",
    "                 results['mean_test_score'] - results['std_test_score'], \n",
    "                 alpha=0.2)\n",
    "plt.xscale('log')\n",
    "plt.xlabel('C')\n",
    "plt.ylabel('Score')\n",
    "plt.legend()\n",
    "plt.show()"
   ]
  },
  {
   "cell_type": "markdown",
   "metadata": {},
   "source": [
    "### 2.3 Precision-recall curve"
   ]
  },
  {
   "cell_type": "code",
   "execution_count": 53,
   "metadata": {},
   "outputs": [],
   "source": [
    "y_score = clf.decision_function(X_test)\n",
    "average_precision = average_precision_score(y_test, y_score)\n",
    "precision, recall, _ = precision_recall_curve(y_test, y_score)"
   ]
  },
  {
   "cell_type": "code",
   "execution_count": 54,
   "metadata": {},
   "outputs": [
    {
     "data": {
      "image/png": "[encoded data removed]",
      "text/plain": [
       "<Figure size 432x288 with 1 Axes>"
      ]
     },
     "metadata": {},
     "output_type": "display_data"
    }
   ],
   "source": [
    "plt.step(recall, precision, color='b', alpha=0.2, where='post')\n",
    "plt.fill_between(recall, precision, step='post', alpha=0.2, color='b')\n",
    "\n",
    "plt.xlabel('Recall')\n",
    "plt.ylabel('Precision')\n",
    "plt.ylim([0.0, 1.0])\n",
    "plt.xlim([0.0, 1.0])\n",
    "plt.title('Precision-recall curve: AP={0:0.2f}'.format(average_precision))\n",
    "plt.show()"
   ]
  },
  {
   "cell_type": "markdown",
   "metadata": {},
   "source": [
    "### 2.4 Evaluation of test set"
   ]
  },
  {
   "cell_type": "code",
   "execution_count": 55,
   "metadata": {},
   "outputs": [],
   "source": [
    "y_true, y_pred = y_test, clf.predict(X_test)"
   ]
  },
  {
   "cell_type": "code",
   "execution_count": 56,
   "metadata": {},
   "outputs": [
    {
     "name": "stdout",
     "output_type": "stream",
     "text": [
      "             precision    recall  f1-score   support\n",
      "\n",
      "          0       0.99      0.95      0.97      1759\n",
      "          1       0.86      0.97      0.91       579\n",
      "\n",
      "avg / total       0.96      0.95      0.95      2338\n",
      "\n"
     ]
    }
   ],
   "source": [
    "print(classification_report(y_true, y_pred))"
   ]
  },
  {
   "cell_type": "code",
   "execution_count": 57,
   "metadata": {},
   "outputs": [
    {
     "name": "stdout",
     "output_type": "stream",
     "text": [
      "Training accuracy: 0.929\n"
     ]
    }
   ],
   "source": [
    "print(\"Training accuracy: {0:.3}\".format(clf.score(X_train, y_train)))"
   ]
  },
  {
   "cell_type": "code",
   "execution_count": 58,
   "metadata": {},
   "outputs": [
    {
     "name": "stdout",
     "output_type": "stream",
     "text": [
      "Test accuracy: 0.912\n"
     ]
    }
   ],
   "source": [
    "print(\"Test accuracy: {0:.3}\".format(clf.score(X_test, y_test)))"
   ]
  },
  {
   "cell_type": "markdown",
   "metadata": {},
   "source": [
    "### 2.5 Top predictors of spam\n",
    "\n",
    "Clearly there is an issue of our model picking up words that are specific to this data set. `spamassassinsight` seems to be referring to `spamassassin-sightings`, an e-mail list that some users refer to in these specific emails. If we were to generalize our model, we would need a more general vocabulary list, drawn from a more diverse data set, or we can adjust `CountVectorizer` in the pipeline (or do a grid search over some additional hyperparameters)."
   ]
  },
  {
   "cell_type": "code",
   "execution_count": 59,
   "metadata": {
    "scrolled": true
   },
   "outputs": [
    {
     "data": {
      "image/png": "[encoded data removed]",
      "text/plain": [
       "<Figure size 432x288 with 1 Axes>"
      ]
     },
     "metadata": {},
     "output_type": "display_data"
    }
   ],
   "source": [
    "def plot_top(coef, names, n=10):\n",
    "    coef_argsorted = np.argsort(coef)\n",
    "    feature_names_array = np.array(names)\n",
    "    words = []\n",
    "    values = []\n",
    "    for i in range(-n,0):\n",
    "        words.append(names[coef_argsorted[i]])\n",
    "        values.append(coef[coef_argsorted[i]])\n",
    "\n",
    "    y = np.arange(n)\n",
    "    plt.barh(y, values)\n",
    "    plt.yticks(y, words)\n",
    "    plt.xlabel('Coefficient')\n",
    "    plt.ylabel('Word')\n",
    "    plt.show()\n",
    "    \n",
    "plot_top(clf.best_estimator_.named_steps['svc'].coef_.toarray()[0], \n",
    "         clf.best_estimator_.named_steps['vect'].get_feature_names())"
   ]
  }
 ],
 "metadata": {
  "kernelspec": {
   "display_name": "Python 3",
   "language": "python",
   "name": "python3"
  },
  "language_info": {
   "codemirror_mode": {
    "name": "ipython",
    "version": 3
   },
   "file_extension": ".py",
   "mimetype": "text/x-python",
   "name": "python",
   "nbconvert_exporter": "python",
   "pygments_lexer": "ipython3",
   "version": "3.6.5"
  }
 },
 "nbformat": 4,
 "nbformat_minor": 2
}
