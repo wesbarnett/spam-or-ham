{
 "cells": [
  {
   "cell_type": "markdown",
   "metadata": {},
   "source": [
    "# Spam or Ham?\n",
    "\n",
    "This is an example of using machine learning to classify emails as either spam or ham (not spam). The emails used to train this classifier are from [SpamAssassin's Public Corpus](https://spamassassin.apache.org/old/publiccorpus/). "
   ]
  },
  {
   "cell_type": "code",
   "execution_count": 5,
   "metadata": {},
   "outputs": [],
   "source": [
    "import matplotlib.pyplot as plt\n",
    "import numpy as np\n",
    "import pandas as pd"
   ]
  },
  {
   "cell_type": "markdown",
   "metadata": {},
   "source": [
    "## 1 Preprocessing"
   ]
  },
  {
   "cell_type": "markdown",
   "metadata": {},
   "source": [
    "The two functions below will aid in the processing of the emails when the are used with our model. The first fucntion, `process_email`, take the text of the email and removes the header, HTML, punctuation, etc. The second function, `stemmed_words`, calls `process_email` on the text and then runs a stemmer on the words in the email. `stemmed_words` will be our actual analyzer function for `CountVectorizer`, as you can see below."
   ]
  },
  {
   "cell_type": "code",
   "execution_count": 6,
   "metadata": {},
   "outputs": [],
   "source": [
    "from bs4 import BeautifulSoup\n",
    "from email import message_from_bytes, message_from_string\n",
    "from nltk.stem.porter import PorterStemmer\n",
    "from re import sub\n",
    "from string import punctuation\n",
    "from sklearn.feature_extraction.text import CountVectorizer\n",
    "\n",
    "def process_email(txt):\n",
    "    \"\"\"\n",
    "    Takes an email message and cleans it up for use with CountVectorizer().\n",
    "    \"\"\"\n",
    "    if (type(txt) == bytes):\n",
    "        msg_email = message_from_bytes(txt)\n",
    "    else:\n",
    "        msg_email = message_from_string(txt)\n",
    "        \n",
    "    # Only use the message body\n",
    "    msg = ''\n",
    "    if msg_email.is_multipart():\n",
    "        for part in msg_email.walk():\n",
    "            ctype = part.get_content_type()\n",
    "            cdispo = str(part.get('Content-Disposition'))\n",
    "            # skip any text/plain (txt) attachments\n",
    "            if ctype == 'text/plain' and 'attachment' not in cdispo:\n",
    "                body = part.get_payload()\n",
    "                break\n",
    "    else:\n",
    "        msg = msg_email.get_payload()\n",
    "        \n",
    "    # Conver to all lowercase\n",
    "    msg = msg.lower()\n",
    "    \n",
    "    # Remove line breaks\n",
    "    msg = sub('\\n', ' ', msg)\n",
    "    msg = sub('\\t', ' ', msg)\n",
    "    \n",
    "    # Stip HTML\n",
    "    soup = BeautifulSoup(msg, 'lxml')\n",
    "    msg = soup.get_text()\n",
    "    \n",
    "    # Convert numbers, urls, email addresses, and dollar signs\n",
    "    msg = sub('[0-9]+', 'number', msg)\n",
    "    msg = sub('(http|https)://[^\\s]*', 'httpaddr', msg)\n",
    "    msg = sub('[^\\s]+@[^\\s]+', 'emailaddr', msg)\n",
    "    msg = sub('[$]+', 'dollar', msg)\n",
    "    \n",
    "    # Remove additional punctuation\n",
    "    table = str.maketrans({key: None for key in punctuation})\n",
    "    msg = msg.translate(table)\n",
    "    return msg\n",
    "\n",
    "stemmer = PorterStemmer()\n",
    "analyzer = CountVectorizer(decode_error='ignore').build_analyzer()\n",
    "\n",
    "def stemmed_words(doc):\n",
    "    doc = process_email(doc)\n",
    "    return (stemmer.stem(w) for w in analyzer(doc))"
   ]
  },
  {
   "cell_type": "markdown",
   "metadata": {},
   "source": [
    "### 1.1 Load the text files\n",
    "`load_files` is a nice function for loading large amounts of data. I have the spam emails in `./data/spam` and the ham emails in `./data/ham`. `load_files` automatically classifies the documents based on which folder they are in. When I downloaded the data sets I sorted them based on their labels given by the data set's curator. The emails themselves are stored in the `.data` object with the labels stored in the `.target` object."
   ]
  },
  {
   "cell_type": "code",
   "execution_count": 7,
   "metadata": {},
   "outputs": [],
   "source": [
    "from sklearn.datasets import load_files\n",
    "emails = load_files('data/')"
   ]
  },
  {
   "cell_type": "code",
   "execution_count": 8,
   "metadata": {},
   "outputs": [
    {
     "data": {
      "text/plain": [
       "['ham', 'spam']"
      ]
     },
     "execution_count": 8,
     "metadata": {},
     "output_type": "execute_result"
    }
   ],
   "source": [
    "emails.target_names"
   ]
  },
  {
   "cell_type": "code",
   "execution_count": 9,
   "metadata": {},
   "outputs": [
    {
     "data": {
      "text/plain": [
       "array([0, 1, 0, ..., 0, 0, 0])"
      ]
     },
     "execution_count": 9,
     "metadata": {},
     "output_type": "execute_result"
    }
   ],
   "source": [
    "emails.target"
   ]
  },
  {
   "cell_type": "markdown",
   "metadata": {},
   "source": [
    "### 1.2 Split data into train and test sets\n",
    "`train_test_split` shuffles the data by default and splits the data into training and test sets, with 75% of the data in the training set, and 25% in the test set."
   ]
  },
  {
   "cell_type": "code",
   "execution_count": 10,
   "metadata": {},
   "outputs": [],
   "source": [
    "from sklearn.model_selection import train_test_split\n",
    "X_train, X_test, y_train, y_test = train_test_split(emails.data, emails.target)"
   ]
  },
  {
   "cell_type": "markdown",
   "metadata": {},
   "source": [
    "Here's one example of an email before and after it is processed:"
   ]
  },
  {
   "cell_type": "code",
   "execution_count": 11,
   "metadata": {},
   "outputs": [
    {
     "data": {
      "text/plain": [
       "b'Return-Path: <Online#3.19692.cd-kEiTl7czTUOatRRR.1.b@newsletter.online.com>\\nReceived: from abv-sfo1-acmta1.CNET.COM (abv-sfo1-acmta1.cnet.com [206.16.1.160])\\n\\tby dogma.slashnull.org (8.11.6/8.11.6) with ESMTP id g6ALeUJ06740\\n\\tfor <qqqqqqqqqq-zdnet@example.com>; Wed, 10 Jul 2002 22:40:31 +0100\\nReceived: from abv-sfo1-ac-agent5 (206.16.0.240) by abv-sfo1-acmta1.CNET.COM (PowerMTA(TM) v1.5); Wed, 10 Jul 2002 14:41:15 -0700 (envelope-from <Online#3.19692.cd-kEiTl7czTUOatRRR.1.b@newsletter.online.com>)\\nMessage-ID: <6957489.1026337224942.JavaMail.root@abv-sfo1-ac-agent5>\\nDate: Wed, 10 Jul 2002 14:40:24 -0700 (PDT)\\nFrom: \"CNET News.com Investor\" <Online#3.19692.cd-kEiTl7czTUOatRRR.1@newsletter.online.com>\\nTo: qqqqqqqqqq-zdnet@example.com\\nSubject: NEWS.COM INVESTOR: Tech stocks drop again on Qwest criminal probe news\\nMime-Version: 1.0\\nContent-Type: text/html; charset=ISO-8859-1\\nContent-Transfer-Encoding: 7bit\\nX-Mailer: Accucast (http://www.accucast.com)\\nX-Mailer-Version: 2.8.4-2\\n\\n<html>\\n<head>\\n<title>CNET Investor Dispatch</title>\\n</head>\\n<body bgcolor=\"#eeeeee\" link=\"#0000ff\" vlink=\"#0000ff\">\\n<div align=\"center\">\\n<a href=\"top\"></a>\\n<table width=612 bgcolor=\"#ffffff\" cellpadding=0 cellspacing=0 border=0>\\n<tr valign=top><td width=442 colspan=4><img src=\"http://www.cnet.com/i/nl/inv/hd.gif\" width=442 height=60 alt=\"CNET Investor Dispatch\"><br>\\n<table bgcolor=\"#ffcc00\" width=442 cellpadding=0 cellspacing=0 border=0>\\n<tr><td bgcolor=\"#000000\" colspan=3><img src=\"http://www.cnet.com/b.gif\" width=1 height=1></td></tr>\\n<tr><td bgcolor=\"#000000\" width=1 rowspan=2><img src=\"http://www.cnet.com/b.gif\" width=1 height=10></td>\\n<td width=10 rowspan=2><img src=\"http://www.cnet.com/b.gif\" width=1 height=10></td>\\n<td width=430><img src=\"http://www.cnet.com/b.gif\" width=1 height=10></td></tr>\\n<tr><td bgcolor=\"#000000\"><img src=\"http://www.cnet.com/b.gif\" width=1 height=1></td></tr>\\n</table></td>\\n<td width=160 rowspan=2><img src=\"http://www.cnet.com/i/nl/dd_b.gif\" width=160 height=18><br>\\n\\n\\n<!-- ad -->\\n<iframe src=\"http://www.zdnet.com/include/ads/ifc/RGROUP=2560\" scrolling=\"no\" frameborder=\"0\" hspace=\"0\" vspace=\"0\" height=\"600\" width=\"160\" marginheight=\"0\" marginwidth=\"0\">\\n<script language=\"JavaScript\" src=\"http://www.zdnet.com/include/ads/js/RGROUP=2560\">\\n</script>\\n</iframe>\\n<!-- ad -->\\n\\n<br>\\n\\n<!-- lookup -->\\n<table width=160 bgcolor=\"#cccccc\" cellpadding=1 cellspacing=0 border=0>\\n<tr><td><table width=\"100%\" bgcolor=\"#ffffff\" cellpadding=9 cellspacing=0 border=0>\\n<tr><td>\\n<form name=\"lookupForm\" method=\"get\" action=\"http://investor.cnet.com/investor/quotes/quote-process/0-0.html\">\\n<font face=\"arial, helvetica\" color=\"#333334\" size=\"-1\"><b>Quote Lookup</b><br>Enter symbol:</font><br>\\n<input type=\"text\" name=\"symbol\" size=10 value=\"\">\\n<input name=\"target\" type=\"hidden\" value=\"detailquote\">\\n<input type=\"submit\" value=\"Go!\"><br>\\n&#183; <font face=\"ms sans serif, geneva\" size=\"-2\"><a href=\"http://clickthru.online.com/Click?q=e2-J1OpQhyzid1CKDqENBEZdihv9KnR\" >Symbol Lookup</a><br>\\nQuotes delayed 20+ minutes</font>\\n</td></form></tr>\\n</table></td></tr>\\n</table>\\n<!-- /lookup -->\\n\\n<p>\\n\\n<!-- nav -->\\n<img src=\"http://www.cnet.com/i/nl/inv/rhc_sect.gif\" width=160 height=20 alt=\"Investor Sections\"><br>\\n<font face=\"arial, helvetica\" size=\"-1\">\\n&#149; <b><a href=\"http://clickthru.online.com/Click?q=f7-N0QnQLgzok63jWHlrZIGiR6ImOeR\" >My Portfolio</a></b><br>\\n&#149; <b><a href=\"http://clickthru.online.com/Click?q=0d-3aGuIbr2CDzTRoQNv0T0QkY6b7PR\" >Broker Reports</a></b><br>\\n&#149; <b><a href=\"http://clickthru.online.com/Click?q=22-xNrrIrdArfPRVUWuo4I9yc99NcnR\" >IPOs</a></b><br>\\n&#149; <b><a href=\"http://clickthru.online.com/Click?q=37-EMLQIqzFSlDTPRUQ93KjZ6eJcneR\" >Splits</a></b><br>\\n&#149; <b><a href=\"http://clickthru.online.com/Click?q=4c-jxi2IZpI6SWLkdPAu7hgvo2AKesR\" >Messages</a></b>\\n</font>\\n<!-- /nav -->\\n\\n<p>\\n\\n\\n<!-- ad -->\\n<!-- Vertical Brick -->\\n<IMG alt=\"Also from CNET\" height=20 src=\"http://home.cnet.com/Ads/Media/Images/RHC_ALSOfromCNETnet.gif\" width=150 NOSEND=\"1\"><BR>\\n<TABLE border=0 cellPadding=2 cellSpacing=0 width=150><TBODY><TR vAlign=top>\\n<TD><FONT face=\"arial, helvetica\" size=-1><B>\\n<a href=\"http://clickthru.online.com/Click?q=61-x9oAIoLj9fatbFb4JYndFK-AWlFR\" >Live tech help NOW!</a><p>\\n<a href=\"http://clickthru.online.com/Click?q=76-vJf7InBP3_dd7Ti1okYP2r70U69R\" >April\\'s tech award</a><p>\\n<a href=\"http://clickthru.online.com/Click?q=8b-SBGBQY0y_jEu6YSEYIEElDh4B1rR\" >1 million open jobs</a><p>\\n<a href=\"http://clickthru.online.com/Click?q=a0-11h8QQBqXHDVsDPUByjw2PB1s7iR\" >News.com: Top CIOs</a> <p>\\n<a href=\"http://clickthru.online.com/Click?q=b5-50FcQ7U7vHrLZfZ1PHq15ZNEEZPR\" >ZDNet: PeopleSoft</a>\\n</B></FONT></TD>\\n</TR></TBODY></TABLE></P>\\n<!-- End Vertical Brick-->\\n<!-- ad -->\\n</td>\\n<td width=9 rowspan=2><img src=\"http://www.cnet.com/i/nl/dd_c.gif\" width=9 height=60><br>\\n<table width=9 cellpadding=0 cellspacing=0 border=0>\\n<tr><td bgcolor=\"#000000\"><img src=\"http://www.cnet.com/b.gif\" width=1 height=1></td></tr>\\n<tr><td bgcolor=\"#ffcc00\"><img src=\"http://www.cnet.com/b.gif\" width=1 height=10></td></tr>\\n<tr><td bgcolor=\"#000000\"><img src=\"http://www.cnet.com/b.gif\" width=1 height=1></td></tr>\\n</table></td>\\n<td width=1 bgcolor=\"#000000\" rowspan=2><table width=1 cellpadding=0 cellspacing=0 border=0>\\n<tr><td bgcolor=\"#eeeeee\"><img src=\"http://www.cnet.com/b.gif\" width=1 height=60></td></tr>\\n</table></td></tr>\\n\\n<tr valign=top><td width=1 bgcolor=\"#000000\"><img src=\"http://www.cnet.com/b.gif\" width=1 height=1></td>\\n<td width=10 bgcolor=\"#ffcc00\"><img src=\"http://www.cnet.com/b.gif\" width=10 height=1></td>\\n<td width=1 bgcolor=\"#000000\"><img src=\"http://www.cnet.com/b.gif\" width=1 height=1></td>\\n<td width=430 bgcolor=\"#ffffff\"><table cellpadding=0 cellspacing=0 border=0 width=430>\\n<tr valign=top><td width=10><img src=\"http://www.cnet.com/b.gif\" width=10 height=1></td>\\n<td width=412><font face=\"arial, helvetica\" size=\"-1\"><img src=\"http://www.cnet.com/b.gif\" width=1 height=8><br><font size=\"-2\">July 10, 2002</font><br>\\n\\n<!-- /index -->\\n\\n<table width=\"100%\" cellpadding=0 cellspacing=0 border=0>\\n<tr><td colspan=4 bgcolor=\"#cccccc\"><img src=\"http://www.cnet.com/b.gif\" width=1 height=1></td></tr>\\n\\n<tr><td width=\"25%\"><img src=\"http://home.cnet.com/Images/Investor/arrow_down.gif\" width=\"7\" height=\"9\" alt=\"\" border=\"0\" /> <font face=\"ms sans serif, geneva\" size=\"-2\"><a href=\"http://clickthru.online.com/Click?q=cb-CjRIQJsrcz1TnqNyXYHRf_uaHkrR\" >DJIA</a><br>8813.50 &nbsp;<font color=#cc0000>-282.59</font></td>\\n\\n<td width=\"25%\"><img src=\"http://home.cnet.com/Images/Investor/arrow_down.gif\" width=\"7\" height=\"9\" alt=\"\" border=\"0\" /> <font face=\"ms sans serif, geneva\" size=\"-2\"><a href=\"http://clickthru.online.com/Click?q=e0-cISRQfDH017GGwkkPhB7mxUT9AiR\" >NASDAQ</a><br>1346.01 &nbsp;<font color=#cc0000>-35.11</font></td>\\n\\n<td width=\"25%\"><img src=\"http://home.cnet.com/Images/Investor/arrow_down.gif\" width=\"7\" height=\"9\" alt=\"\" border=\"0\" /> <font face=\"ms sans serif, geneva\" size=\"-2\"><a href=\"http://clickthru.online.com/Click?q=f5-lTbRQgwx12fsoux6DmLwgkaZmRPR\" >S&P 500</a><br>920.47 &nbsp;<font color=#cc0000>-32.36</font></td>\\n\\n<td width=\"25%\"><img src=\"http://home.cnet.com/Images/Investor/arrow_down.gif\" width=\"7\" height=\"9\" alt=\"\" border=\"0\" /> <font face=\"ms sans serif, geneva\" size=\"-2\"><a href=\"http://clickthru.online.com/Click?q=0a-ZnKCIrrscnuQ3lMBwhq6GOxuYznR\" >CNET&nbsp;TECH</a><br>965.29 &nbsp;<font color=\"#cc0000\"><font color=#cc0000>-26.23</font></font>\\n\\n</td></tr>\\n<tr><td colspan=4><img src=\"http://www.cnet.com/b.gif\" width=1 height=3></td></tr>\\n\\n<!-- VISION PROMO -->\\n<tr><td colspan=4 bgcolor=\"#cccccc\"><img src=\"http://www.cnet.com/b.gif\" width=1 height=1></td></tr>\\n<tr><td colspan=4><img src=\"http://www.cnet.com/b.gif\" width=1 height=3></td></tr>\\n<tr><td colspan=4><font face=\"arial, helvetica\" size=\"-1\"><b>CNET News.com Vision Series</b><br>Read News.com\\'s exclusive interviews of 10 top CIOs.<br><a href=\"http://clickthru.online.com/Click?q=1f-rvwqI58w5y5Y5-f1xmYgHobjqmeR\" >Vision Series home</a>\\n</td></tr>\\n<tr><td colspan=4><img src=\"http://www.cnet.com/b.gif\" width=1 height=3></td></tr>\\n<!-- /VISION PROMO -->\\n\\n<tr><td colspan=4 bgcolor=\"#cccccc\"><img src=\"http://www.cnet.com/b.gif\" width=1 height=1></td></tr>\\n</table>\\n<!-- /index -->\\n\\n<br>\\n<table width=93 align=left cellpadding=0 cellspacing=0 border=0>\\n<tr><td><a href=\"?tag=dd.inv.dht.hed.0\"><img src=\"http://www.cnet.com/i/ne/pt/2001/03/pts_0313nov.jpg\" width=85 height=110 border=0></a></td></tr>\\n</table>\\n<font size=3><b>Tech stocks drop again on Qwest criminal probe news</b></font><br>\\nWord telecom Qwest Communications International is being investigated by the U.S. Attorney\\'s office in Denver helped send technology shares lower Wednesday.\\n<p>\\nDespite a Merrill Lynch upgrade of Cisco Systems and the fact that J.P. Morgan began coverage on AOL Time Warner with a \"buy\" rating, CNET\\'s Tech index fell 26.23 points, or 2.66 percent, to 965.29. The tech-heavy Nasdaq composite index lost 35.11 points, or 2.54 percent, to 1,346.01--a multi-year low.\\n<p>\\nBroader markets also shed value, dragged down in part by a troubled pharmaceutical sector. The Dow Jones industrial average dropped 282.5 points, or 3.11 percent, to 8,813.5, and the S&P 500 slid 32.36 points, or 3.52 percent, to 920.47--also a multi-year low.\\n<br><br>\\n</font></td>\\n<td width=8><img src=\"http://www.cnet.com/b.gif\" width=8 height=1></td></tr>\\n</table>\\n\\n<table cellpadding=10 cellspacing=0 border=0>\\n<tr><td>\\n<!-- top news -->\\n<table width=400 cellpadding=0 cellspacing=0 border=0>\\n<tr><td><img src=\"http://www.cnet.com/i/nl/inv/sub_news.gif\" width=192 height=19 alt=\"Top Investor News\"></td>\\n<td width=\"100%\"><img src=\"http://www.cnet.com/b.gif\" width=1 height=8></td></tr>\\n<tr bgcolor=\"#cccccc\"><td colspan=2><img src=\"http://www.cnet.com/b.gif\" width=1 height=1></td></tr>\\n<tr><td colspan=2><img src=\"http://www.cnet.com/b.gif\" width=1 height=5></td></tr>\\n</table>\\n<font face=\"arial, helvetica\" size=\"-1\">\\n<font size=3><b><a href=\"http://clickthru.online.com/Click?q=34-pJpSIcd819B4rhq3_tvVyn4IcgyR\" >AT&T, Comcast Shareholders OK Broadband Deal </a></b></font><br>\\nShareholders of AT&T Corp. and Comcast Corp. on Wednesday approved the planned $27 billion merger of AT&T Broadband with Comcast, which will create the nation\\'s largest cable TV operator with more than 22 million customers.\\nTelephone giant AT&T in December agreed to sell its cable television unit to Comcast as part of a restructuring that dismantled its vision of becoming a one-stop shop for telephone, data and video services.<br><B>AT&T CORP 9.78 -2.30% </B>\\n<p>\\n<font size=3><b><a href=\"http://clickthru.online.com/Click?q=49-ZM4cIEpSenC10zjVX4RVXFO5JSFR\" >$215 million later, start-up Pluris shuts down </a></b></font><br>\\nNetworking start-up Pluris will release a statement Wednesday announcing it has closed its doors because of a lack of funding and ongoing woes in the market it serves, according to a spokeswoman familiar with the company\\'s plans.\\nPluris, a once promising company, burned through $215 million over the past few years as it attempted to build a high-end router that was intended to outclass similar products from competitors such as Juniper Networks and Cisco Systems.<br><B>CISCO SYSTEMS 13.51 2.82% </B>\\n<p>\\n<font size=3><b><a href=\"http://clickthru.online.com/Click?q=5f-WK5BIIKX2Fzc7al6fez6pa6cIJuR\" >WorldCom contracts under U.S. scrutiny </a></b></font><br>\\nThe accounting scandal at WorldCom has prompted U.S. government agencies to scrutinize the telecommunications company\\'s billions of dollars in federal contracts.\\nThe Federal Aviation Administration, for one, has been forced to take stock of the situation quickly. WorldCom is a finalist for a 20-year, $3.5 billion contract with the FAA. The contract is expected to be awarded as soon as this week. The company is the incumbent on the contract, which supplies phone and data infrastructure to the nation\\'s air traffic control systems.<br><B>WORLDCOM INC-WORLDCOM TRCK STK 0.20 -3.81% </B>\\n<!-- /top news -->\\n<p>\\n\\n<p>\\n<!-- rtsq -->\\n<font color=\"#999999\"><b>Also from CNET</b></font><br>\\n<table width=400 cellpadding=0 cellspacing=0 border=0>\\n<tr bgcolor=\"#cccccc\"><td><img src=\"http://www.cnet.com/b.gif\" width=1 height=1></td></tr>\\n<tr><td><img src=\"http://www.cnet.com/b.gif\" width=1 height=5></td></tr>\\n</table>\\nReal-time stock quotes from CNET News.com Investor.<br>30-day <a href=\"http://clickthru.online.com/Click?q=74-VAV8IZZSN6A6Wn0RYG8Y0gSPZxsR\" >free trial</a>!\\n<!-- /rtsq -->\\n<p>\\n<!-- broker reports -->\\n<table width=400 cellpadding=0 cellspacing=0 border=0>\\n<tr><td><img src=\"http://www.cnet.com/i/nl/inv/sub_brok.gif\" width=192 height=19 alt=\"Today\\'s Broker Reports\"></td>\\n<td width=\"100%\"><img src=\"http://www.cnet.com/b.gif\" width=1 height=8></td></tr>\\n<tr bgcolor=\"#cccccc\"><td colspan=2><img src=\"http://www.cnet.com/b.gif\" width=1 height=1></td></tr>\\n<tr><td colspan=2><img src=\"http://www.cnet.com/b.gif\" width=1 height=5></td></tr>\\n</table>\\n<font face=\"arial, helvetica\" size=\"-1\">\\n<font size=3><b><a href=\"http://clickthru.online.com/Click?q=89-h28bQ-J1QVDWD5ykUMBXB6W5WWlR\" >Banc of America Securities lowers estimates and price target on IBM in notes 7/10/02 </a></b></font><br>\\nAnalyst Joel Wagonfeld argues the computer giant is not immune to the persistent, widespread weakness in IT spending. But a roughly 6 percent dip in revenues during the second quarter will be offset by the elimination of losses from the discontinued hard disk drive business, Wagonfeld predicts. In IBM\\'s second-quarter results, he expects continued weakness in hardware but relative strength in software and outsourcing. The company\\'s decision to exit or restructure unprofitable, commodity businesses is sound, Wagonfeld says. He reiterates a \"buy\" rating on IBM.<br><B>INTL BUSINESS MACHINES 68.76 -1.31% </B><br>\\n<a href=\"http://clickthru.online.com/Click?q=9e-tWQoQtMQJGPlW7jHSCN0U7nQUD4R\" >Visit the Brokerage Center</a>\\n<!-- /broker reports -->\\n\\n<p>\\n\\n<!-- ceo wealth meter -->\\n<table width=400 cellpadding=0 cellspacing=0 border=0>\\n<tr><td><img src=\"http://www.cnet.com/i/nl/inv/sub_ceo.gif\" width=192 height=19 alt=\"CEO Wealth Meter\"></td>\\n<td width=\"100%\"><img src=\"http://www.cnet.com/b.gif\" width=1 height=8></td></tr>\\n<tr bgcolor=\"#cccccc\"><td colspan=2><img src=\"http://www.cnet.com/b.gif\" width=1 height=1></td></tr>\\n<tr><td colspan=2><img src=\"http://www.cnet.com/b.gif\" width=1 height=5></td></tr>\\n</table>\\n<font face=\"arial, helvetica\" size=\"-1\">\\n<font size=3><b><a href=\"http://clickthru.online.com/Click?q=b3-QHzxQYKTqeTEqynAE64qDAwrPGrR\" >Pressplay CEO Schuon to leave company</a></b></font><br>\\nAndy Schuon is leaving as president and chief executive officer of Pressplay, a joint online venture between Sony Music and Universal Music, sources close to the matter said on Wednesday.\\n\\nSony Music is a unit of Sony Corp, and Universal Music is a unit of Vivendi Universal.<br><B>SONY CORP ADR 50.47 -4.32% </B><br>\\n<a href=\"http://clickthru.online.com/Click?q=c8-2lPnQWOzdDm4iygMKE-nFr99H2iR\" >Visit the CEO Wealth Meter</a><br clear=all>\\n<!-- /ceo wealth meter -->\\n\\n<p>\\n\\n</font><br>\\n</td></tr>\\n</table>\\n</td></tr>\\n</table>\\n<table width=612 cellpadding=0 cellspacing=0 border=0>\\n<tr><td width=1 bgcolor=\"#000000\"><img src=\"http://www.cnet.com/b.gif\" width=1 height=1></td>\\n<td width=10 bgcolor=\"#ffcc00\"><img src=\"http://www.cnet.com/b.gif\" width=10 height=1></td>\\n<td width=1 bgcolor=\"#000000\"><img src=\"http://www.cnet.com/b.gif\" width=1 height=1></td>\\n<td width=599 bgcolor=\"#cccccc\"><img src=\"http://www.cnet.com/b.gif\" width=1 height=1></td>\\n<td width=1 bgcolor=\"#000000\"><img src=\"http://www.cnet.com/b.gif\" width=1 height=1></td></tr>\\n</table>\\n<table width=\"612\" bgcolor=\"#FFFFFF\" cellpadding=\"0\" cellspacing=\"0\" border=\"0\">\\n<tr><td width=\"1\" bgcolor=\"#000000\"><img src=\"http://www.cnet.com/b.gif\" width=\"1\" height=\"1\"></td>\\n<td width=\"10\" bgcolor=\"#ffcc00\"><img src=\"http://www.cnet.com/b.gif\" width=\"10\" height=\"1\"></td>\\n<td width=\"1\" bgcolor=\"#000000\"><img src=\"http://www.cnet.com/b.gif\" width=\"1\" height=\"1\"></td>\\n<td width=\"12\"><img src=\"http://www.cnet.com/b.gif\" width=\"12\" height=\"1\"></td>\\n<td width=\"575\"><img src=\"http://www.cnet.com/b.gif\" width=\"1\" height=\"10\"><br>\\n<!-- Leads Module -->\\n<img src=\"http://www.cnet.com/i/gl/new-cc.gif\" alt=\"Crucial Clicks\" width=\"120\" height=\"19\" border=\"0\"><br>\\n<table width=\"100%\"  cellpadding=\"0\" cellspacing=\"0\" border=\"0\" bgcolor=\"#ffffff\">\\n<tr bgcolor=\"#cccccc\"><td colspan=\"7\"><img src=\"http://home.cnet.com/b.gif\" width=\"1\" height=\"1\" border=\"0\"></td></tr>\\n<tr>\\n<td bgcolor=\"#cccccc\" rowspan=\"3\"><img src=\"http://home.cnet.com/b.gif\" height=1 width=1></td>\\n<td rowspan=\"3\"><img src=\"http://home.cnet.com/b.gif\" height=1 width=5></td>\\n<td colspan=\"3\"><img src=\"http://home.cnet.com/b.gif\" height=5 width=1></td>\\n<td rowspan=\"3\"><img src=\"http://home.cnet.com/b.gif\" height=1 width=5></td>\\n<td bgcolor=\"#cccccc\" rowspan=\"3\"><img src=\"http://home.cnet.com/b.gif\" height=1 width=1></td>\\n</tr>\\n<tr valign=\"top\">\\n<td width=\"100%\">\\n                <table width=\"100%\"  cellpadding=\"0\" cellspacing=\"0\" border=\"0\">\\n                <tr valign=\"top\">\\n                <td width=\"85\"><a href=\"http://clickthru.online.com/Click?q=de-7tpkQMWaO-_Q5E_tTbDS-BJjho4R\" ><img src=\"http://a.r.tv.com/cnet.1d/i/pg/021502_pointcamera.jpg\" width=\"85\" height=\"110\" border=\"0\" alt=\"\" /></a></td>\\n        <td width=\"5\"><img src=\"http://home.cnet.com/b.gif\" height=1 width=5></td>\\n        <td width=\"100%\"><font face=\"arial, helvetica\" size=\"-1\"><a href=\"http://clickthru.online.com/Click?q=f3-LjwgQJOwj9BmISgCs3CyJqsjeorR\" ><b>Digicams for summer shutterbugs</b></a><br />Going on vacation, or just headed to the beach? Indulge your summer snapshot habit with one of our picks.</font></td>\\n                </tr>\\n                <tr><td colspan=\"3\"><img src=\"http://home.cnet.com/b.gif\" height=3 width=1><br /><font face=\"arial, helvetica\" size=\"-1\">\\n        &#149; <a href=\"http://clickthru.online.com/Click?q=08-IFoQIRjFUlrv0mOg3F-erCpGY9iR\" >5-megapixel shoot-out</a><br />\\n        &#149; <a href=\"http://clickthru.online.com/Click?q=1d-6KTjIGQF7vBeQKORl28NRQSnqQPR\" >Leica Digilux 1: street shooter\"s digicam.</a><br />\\n        </font></td></tr>\\n        </table>\\n</td>\\n<td><img src=\"http://home.cnet.com/b.gif\" height=1 width=5></td>\\n<td width=\"180\">\\n        <table cellpadding=\"0\" cellspacing=\"0\" width=\"180\" border=\"0\" bgcolor=\"#ffffef\">\\n        <tr><td colspan=\"5\" bgcolor=\"#666666\"><img src=\"http://home.cnet.com/b.gif\" width=\"1\" height=\"1\" alt=\"\" border=\"0\" /></td></tr>\\n        <tr>\\n        <td bgcolor=\"#666666\"><img src=\"http://home.cnet.com/b.gif\" width=\"1\" height=\"1\" alt=\"\" border=\"0\" /></td>\\n        <td><img src=\"http://home.cnet.com/b.gif\" width=\"10\" height=\"1\" alt=\"\" border=\"0\" /></td>\\n        <td><font face=\"ms sans serif, geneva\" size=\"-2\"><img src=\"http://home.cnet.com/b.gif\" width=\"1\" height=\"5\" alt=\"\" border=\"0\" /><br />\\n        <font face=\"arial, helvetica\" color=\"#666666\" size=\"-1\"><b>Most popular products</b></font><br /><img src=\"http://home.cnet.com/b.gif\" width=\"1\" height=\"5\" alt=\"\" border=\"0\" /><br />\\n        <b>Digital cameras</b><br /><img src=\"http://home.cnet.com/b.gif\" width=\"1\" height=\"7\" alt=\"\" border=\"0\" /><br />\\n        1. <a href=\"http://clickthru.online.com/Click?q=32-Gx5IIrQ6j3Y499BDFWVhZSgRXBnR\" >Canon PowerShot G2</a><br /><img src=\"http://home.cnet.com/b.gif\" width=\"1\" height=\"3\" alt=\"\" border=\"0\" /><br />\\n        2. <a href=\"http://clickthru.online.com/Click?q=47-ADmxIIZH1jj2TNNOiJGu_NEsnEuR\" >Canon PowerShot S40</a><br /><img src=\"http://home.cnet.com/b.gif\" width=\"1\" height=\"3\" alt=\"\" border=\"0\" /><br />\\n        3. <a href=\"http://clickthru.online.com/Click?q=5c-BnjPIZnPblY751U53xlZk0f-IosR\" >Canon PowerShot S30</a><br /><img src=\"http://home.cnet.com/b.gif\" width=\"1\" height=\"3\" alt=\"\" border=\"0\" /><br />\\n        4. <a href=\"http://clickthru.online.com/Click?q=71-GwdUIEZcfHlVz9LqwuBXvl3NU2FR\" >Canon PowerShot A40</a><br /><img src=\"http://home.cnet.com/b.gif\" width=\"1\" height=\"3\" alt=\"\" border=\"0\" /><br />\\n        5. <a href=\"http://clickthru.online.com/Click?q=86-8fH1QCJonnAOpszSjaeTldfVpf4R\" >Nikon Coolpix 995</a><br /><img src=\"http://home.cnet.com/b.gif\" width=\"1\" height=\"6\" alt=\"\" border=\"0\" /><br />\\n        <img src=\"http://a.r.tv.com/cnet.1d/i/fd/yl_arrow.gif\" width=\"13\" height=\"13\" border=\"0\" alt=\"\" align=\"absmiddle\" /> <b><a href=\"http://clickthru.online.com/Click?q=9b-7-TFQSIo2p6pzmP0dAVJ9PZAKTrR\" >See all most popular cameras</a></b><br />\\n        <img src=\"http://home.cnet.com/b.gif\" width=\"1\" height=\"10\" alt=\"\" border=\"0\" /><br />\\n        </font></td>\\n        <td><img src=\"http://home.cnet.com/b.gif\" width=\"10\" height=\"1\" alt=\"\" border=\"0\" /></td>\\n        <td bgcolor=\"#666666\"><img src=\"http://home.cnet.com/b.gif\" width=\"1\" height=\"1\" alt=\"\" border=\"0\" /></td>\\n        </tr>\\n        <tr><td colspan=\"5\" bgcolor=\"#666666\"><img src=\"http://home.cnet.com/b.gif\" width=\"1\" height=\"1\" alt=\"\" border=\"0\" /></td></tr>\\n        </table>\\n</td>\\n</tr>\\n<tr valign=\"top\"><td colspan=\"3\"><img src=\"http://home.cnet.com/b.gif\" height=5 width=1></td></tr>\\n<tr><td colspan=\"7\" bgcolor=\"#cccccc\"><img src=\"http://home.cnet.com/b.gif\" height=1 width=1></td></tr>\\n</table><br />\\n<!-- /Leads Module -->\\n</td><td width=\"12\"><img src=\"http://www.cnet.com/b.gif\" width=\"12\" height=\"1\"></td>\\n<td width=\"1\" bgcolor=\"#000000\"><img src=\"http://www.cnet.com/b.gif\" width=\"1\" height=\"1\"></td></tr>\\n</table>\\n<!-- ### footer ### -->\\n<table width=\"612\" bgcolor=\"#000000\" cellpadding=\"0\" cellspacing=\"0\" border=\"0\">\\n<tr><td width=\"1\"><img src=\"http://www.cnet.com/b.gif\" width=\"1\" height=\"1\"></td>\\n<td width=\"10\" bgcolor=\"#ffcc00\"><img src=\"http://www.cnet.com/b.gif\" width=\"10\" height=\"1\"></td>\\n<td width=\"1\"><img src=\"http://www.cnet.com/b.gif\" width=\"1\" height=\"1\"></td>\\n<td width=\"599\" bgcolor=\"#cccccc\"><img src=\"http://www.cnet.com/b.gif\" width=\"1\" height=\"1\"></td>\\n<td width=\"1\"><img src=\"http://www.cnet.com/b.gif\" width=\"1\" height=\"1\"></td></tr>\\n</table>\\n<table width=\"612\" bgcolor=\"#eeeeee\" cellpadding=\"0\" cellspacing=\"0\" border=\"0\">\\n<tr><td width=\"1\" bgcolor=\"#000000\"><img src=\"http://www.cnet.com/b.gif\" width=\"1\" height=\"1\"></td>\\n<td width=\"10\" bgcolor=\"#ffcc00\"><img src=\"http://www.cnet.com/b.gif\" width=\"10\" height=\"1\"></td>\\n<td width=\"1\" bgcolor=\"#000000\"><img src=\"http://www.cnet.com/b.gif\" width=\"1\" height=\"1\"></td>\\n<td width=\"12\"><img src=\"http://www.cnet.com/b.gif\" width=\"12\" height=\"1\"></td>\\n<td width=\"575\"><img src=\"http://www.cnet.com/b.gif\" width=\"1\" height=\"10\"><br>\\n      <a href=\"http://clickthru.online.com/Click?q=b1-YjxJQ-0dzAP7PJVr9i_f_B0NLnlR\" >\\n      </a>\\n      <table width=\"100%\" border=\"0\" cellpadding=\"5\" align=\"center\" bordercolor=\"#000000\" bgcolor=\"#CCCCCC\">\\n        <tr bgcolor=\"#ffcc00\">\\n          <td bgcolor=\"#CCCCCC\"><font face=\"Arial, Helvetica\" size=-1><b><font size=\"2\" color=blue>NEW!</font></b>\\n            <font size=\"2\">CNET professional e-mail publishing for just $24.95/month.\\n            <b><a href=\"http://clickthru.online.com/Click?q=c6-URF9QMLKguZvu7xWdT_pfmeDx04R\" >FREE for 30 days. Click\\n            here!</a></b></font></font></td>\\n        </tr>\\n      </table>\\n      <p><a href=\"http://clickthru.online.com/Click?q=db-rmY9QJEK6mDfsBmvpmtTwxp6DtrR\" ><img src=\"http://a.r.tv.com/cnet.1d/i/nl/ft.gif\" width=\"375\" height=\"18\" border=\"0\" alt=\"Sign up for more free newsletters from CNET!\"></a><br>\\n        <!-- subscription management -->\\n        <font face=\"ms sans serif, geneva\" size=\"-2\"> The e-mail address for your\\n        subscription is&nbsp;qqqqqqqqqq-zdnet@example.com</font></p>\\n      <p><font face=\"ms sans serif, geneva\" size=\"-2\">\\n\\n<A NOTRACK HREF=\\'http://clickthru.online.com/Click?q=f0-nvVDrQg8JnbPCuclfqaFOt4zzz0_jN9RR\\'>Unsubscribe</A>&nbsp;|&nbsp;<a href=\\'http://nl.com.com/servlet/url_login?email=qqqqqqqqqq-zdnet@example.com&brand=cnet\\'>Manage My Subscriptions</a>&nbsp;|&nbsp;<a href=\"http://clickthru.online.com/Click?q=05-gDULIG8WRMaz-NZfnODtxI8fiiPR\" >FAQ</A>&nbsp;|&nbsp;<a href=\"http://clickthru.online.com/Click?q=1a-y6ZkIlXH6wztbpId5q0_HZB17WnR\" >Advertise</A><p>\\nPlease send any questions, comments, or concerns to&nbsp;<a href=\"mailto:dispatchfeedback@news.com\">dispatchfeedback@news.com</A>.<br></font>\\n</font>\\n\\n<!-- /subscription management-->\\n\\n<img src=\"http://www.zdnet.com/b.gif\" width=\"1\" height=\"8\"></td>\\n<td width=\"12\"><img src=\"http://www.cnet.com/b.gif\" width=\"12\" height=\"1\"></td>\\n<td width=\"1\" bgcolor=\"#000000\"><img src=\"http://www.cnet.com/b.gif\" width=\"1\" height=\"1\"></td></tr>\\n</table>\\n<table width=\"612\" bgcolor=\"#000000\" cellpadding=\"0\" cellspacing=\"0\" border=\"0\">\\n<tr><td width=\"1\"><img src=\"http://www.cnet.com/b.gif\" width=\"1\" height=\"1\"></td>\\n<td width=\"10\" bgcolor=\"#ffcc00\"><img src=\"http://www.cnet.com/b.gif\" width=\"10\" height=\"1\"></td>\\n<td width=\"601\"><img src=\"http://www.cnet.com/b.gif\" width=\"1\" height=\"1\"></td></tr>\\n</table>\\n<table width=\"612\" bgcolor=\"#ffcc00\" cellpadding=\"0\" cellspacing=\"0\" border=\"0\">\\n<tr><td width=\"1\" bgcolor=\"#000000\"><img src=\"http://www.cnet.com/b.gif\" width=\"1\" height=\"1\"></td>\\n<td width=\"10\"><img src=\"http://www.cnet.com/b.gif\" width=\"10\" height=\"1\"></td>\\n<td width=\"37\"><a href=\"http://clickthru.online.com/Click?q=2f-hYaFIqnzAaBl8Q5P26D_8gaZjMeR\" ><img src=\"http://www.cnet.com/i/dp/smrb.gif\" width=\"37\" height=\"37\" border=\"0\"></a></td>\\n<td width=\"563\" nowrap><font face=\"arial, helvetica\" size=\"-1\">\\n<a href=\"http://clickthru.online.com/Click?q=44-9nxfIZUtYMOhuggEMLKlXBDgnVsR\" ><font color=\"#000000\">Price comparisons</font></a> |\\n<a href=\"http://clickthru.online.com/Click?q=5a-ahD1IP0IMGrqJbf24YOLpk6Td6dR\" ><font color=\"#000000\">Product reviews</font></a> |\\n<a href=\"http://clickthru.online.com/Click?q=6f-3x79IOLAbBAQPc03RXvLF34ULXuR\" ><font color=\"#000000\">Tech news</font></a> |\\n<a href=\"http://clickthru.online.com/Click?q=84-CCOyQ60Tyg7J3vUZsihsBSWgp7yR\" ><font color=\"#000000\">Downloads</font></a> |\\n<a href=\"http://clickthru.online.com/Click?q=99-4mtyQAdTjOeC53W2H3f2jvrqULlR\" ><font color=\"#000000\">All CNET services</font></a>\\n</font></td>\\n<td width=\"1\" bgcolor=\"#000000\"><img src=\"http://www.cnet.com/b.gif\" width=\"1\" height=\"1\"></td></tr>\\n</table>\\n<table width=\"612\" cellpadding=\"0\" cellspacing=\"0\" border=\"0\">\\n<tr><td bgcolor=\"#000000\"><img src=\"http://www.cnet.com/b.gif\" width=\"1\" height=\"1\"></td></tr>\\n<tr><td height=\"25\"><font face=\"ms sans serif, geneva\" size=\"-2\"><table width=100% border=0 cellspacing=2 cellpadding=1> <tr valign=bottom> <td width=75% height=31> <p></font> <br><b><font face=Arial, Helvetica, sans-serif size=2>    Copyright 2002 CNET Networks, Inc. All rights reserved.    </font></b> </p></td><td height=31 valign=top> <div align=right> <img src=\"http://gserv-cnet.zdnet.com/clear/outbound.gif?APPID=2&EMID=25136482&NL=e426&ISSUE=2002-07-10\" height=1 width=1>    </div></td></tr><tr>  <td colspan=2><font face=Arial, Helvetica, sans-serif size=2>    </font></td></tr></table>\\n.</font></td></tr>\\n</table>\\n<!-- ### /footer ### -->\\n\\n</body>\\n</html>\\n<IMG HEIGHT=1 WIDTH=1 SRC=\"http://clickthru.online.com/Click?q=ae-jOB6-tBFPYl11aobN1Uo198IkRRR\">\\n\\n'"
      ]
     },
     "execution_count": 11,
     "metadata": {},
     "output_type": "execute_result"
    }
   ],
   "source": [
    "X_train[0]"
   ]
  },
  {
   "cell_type": "markdown",
   "metadata": {},
   "source": [
    "Here it is after processing, before stemming:"
   ]
  },
  {
   "cell_type": "code",
   "execution_count": 12,
   "metadata": {},
   "outputs": [
    {
     "data": {
      "text/plain": [
       "'  cnet investor dispatch                           quote lookupenter symbol    · symbol lookup quotes delayed number minutes         \\x95 my portfolio \\x95 broker reports \\x95 ipos \\x95 splits \\x95 messages         live tech help now aprils tech award number million open jobs newscom top cios  zdnet peoplesoft                    july number number     djianumbernumber \\xa0numbernumber  nasdaqnumbernumber \\xa0numbernumber  sp numbernumber \\xa0numbernumber  cnet\\xa0technumbernumber \\xa0numbernumber      cnet newscom vision seriesread newscoms exclusive interviews of number top ciosvision series home           tech stocks drop again on qwest criminal probe news word telecom qwest communications international is being investigated by the us attorneys office in denver helped send technology shares lower wednesday  despite a merrill lynch upgrade of cisco systems and the fact that jp morgan began coverage on aol time warner with a buy rating cnets tech index fell numbernumber points or numbernumber percent to numbernumber the techheavy nasdaq composite index lost numbernumber points or numbernumber percent to numbernumbernumbera multiyear low  broader markets also shed value dragged down in part by a troubled pharmaceutical sector the dow jones industrial average dropped numbernumber points or numbernumber percent to numbernumbernumber and the sp number slid numbernumber points or numbernumber percent to numbernumberalso a multiyear low               att comcast shareholders ok broadband deal  shareholders of att corp and comcast corp on wednesday approved the planned dollarnumber billion merger of att broadband with comcast which will create the nations largest cable tv operator with more than number million customers telephone giant att in december agreed to sell its cable television unit to comcast as part of a restructuring that dismantled its vision of becoming a onestop shop for telephone data and video servicesatt corp numbernumber numbernumber   dollarnumber million later startup pluris shuts down  networking startup pluris will release a statement wednesday announcing it has closed its doors because of a lack of funding and ongoing woes in the market it serves according to a spokeswoman familiar with the companys plans pluris a once promising company burned through dollarnumber million over the past few years as it attempted to build a highend router that was intended to outclass similar products from competitors such as juniper networks and cisco systemscisco systems numbernumber numbernumber   worldcom contracts under us scrutiny  the accounting scandal at worldcom has prompted us government agencies to scrutinize the telecommunications companys billions of dollars in federal contracts the federal aviation administration for one has been forced to take stock of the situation quickly worldcom is a finalist for a numberyear dollarnumbernumber billion contract with the faa the contract is expected to be awarded as soon as this week the company is the incumbent on the contract which supplies phone and data infrastructure to the nations air traffic control systemsworldcom incworldcom trck stk numbernumber numbernumber      also from cnet     realtime stock quotes from cnet newscom investornumberday free trial           banc of america securities lowers estimates and price target on ibm in notes numbernumbernumber  analyst joel wagonfeld argues the computer giant is not immune to the persistent widespread weakness in it spending but a roughly number percent dip in revenues during the second quarter will be offset by the elimination of losses from the discontinued hard disk drive business wagonfeld predicts in ibms secondquarter results he expects continued weakness in hardware but relative strength in software and outsourcing the companys decision to exit or restructure unprofitable commodity businesses is sound wagonfeld says he reiterates a buy rating on ibmintl business machines numbernumber numbernumber  visit the brokerage center           pressplay ceo schuon to leave company andy schuon is leaving as president and chief executive officer of pressplay a joint online venture between sony music and universal music sources close to the matter said on wednesday  sony music is a unit of sony corp and universal music is a unit of vivendi universalsony corp adr numbernumber numbernumber  visit the ceo wealth meter                                      digicams for summer shutterbugsgoing on vacation or just headed to the beach indulge your summer snapshot habit with one of our picks           \\x95 numbermegapixel shootout         \\x95 leica digilux number street shooters digicam            most popular products digital cameras         number canon powershot gnumber         number canon powershot snumber         number canon powershot snumber         number canon powershot anumber         number nikon coolpix number  see all most popular cameras                                   new cnet professional email publishing for just dollarnumbernumbermonth             free for number days click             here      the email address for your         subscription is\\xa0emailaddr  unsubscribe\\xa0\\xa0manage my subscriptions\\xa0\\xa0faq\\xa0\\xa0advertise please send any questions comments or concerns to\\xa0emailaddr                price comparisons  product reviews  tech news  downloads  all cnet services              copyright number cnet networks inc all rights reserved                '"
      ]
     },
     "execution_count": 12,
     "metadata": {},
     "output_type": "execute_result"
    }
   ],
   "source": [
    "process_email(X_train[0])"
   ]
  },
  {
   "cell_type": "markdown",
   "metadata": {},
   "source": [
    "Here we test out our `CountVectorizer` that calls our analyzer, stemming the words and representing whether or not a word is present by a `0` or `1` (`binary` = True). This is one version of the [bag-of-words model](https://en.wikipedia.org/wiki/Bag-of-words_model). We could also represent the actual count, but here we only will indicate if a word is prsent. In the end our vocabulary list will be built up from all of the emails and sorted by word frequency. We'll only keep the most frequent words in our model."
   ]
  },
  {
   "cell_type": "code",
   "execution_count": 13,
   "metadata": {},
   "outputs": [
    {
     "data": {
      "text/plain": [
       "['accord',\n",
       " 'account',\n",
       " 'address',\n",
       " 'administr',\n",
       " 'adr',\n",
       " 'advertis',\n",
       " 'again',\n",
       " 'agenc',\n",
       " 'agre',\n",
       " 'air']"
      ]
     },
     "execution_count": 13,
     "metadata": {},
     "output_type": "execute_result"
    }
   ],
   "source": [
    "vect = CountVectorizer(decode_error='ignore', binary=True, analyzer=stemmed_words)\n",
    "X_tmp = vect.fit_transform([X_train[0]])\n",
    "vect.get_feature_names()[:10]"
   ]
  },
  {
   "cell_type": "markdown",
   "metadata": {},
   "source": [
    "The following shows a `1` for every feature, since our vocabulary list only comes from the single point in our data set. So, obviously all words found in this email are present in this email. Again, later our vocabulary list will be built from the entire training set and then applied to each email."
   ]
  },
  {
   "cell_type": "code",
   "execution_count": 14,
   "metadata": {},
   "outputs": [
    {
     "data": {
      "text/plain": [
       "array([[1, 1, 1, 1, 1, 1, 1, 1, 1, 1, 1, 1, 1, 1, 1, 1, 1, 1, 1, 1, 1, 1,\n",
       "        1, 1, 1, 1, 1, 1, 1, 1, 1, 1, 1, 1, 1, 1, 1, 1, 1, 1, 1, 1, 1, 1,\n",
       "        1, 1, 1, 1, 1, 1, 1, 1, 1, 1, 1, 1, 1, 1, 1, 1, 1, 1, 1, 1, 1, 1,\n",
       "        1, 1, 1, 1, 1, 1, 1, 1, 1, 1, 1, 1, 1, 1, 1, 1, 1, 1, 1, 1, 1, 1,\n",
       "        1, 1, 1, 1, 1, 1, 1, 1, 1, 1, 1, 1, 1, 1, 1, 1, 1, 1, 1, 1, 1, 1,\n",
       "        1, 1, 1, 1, 1, 1, 1, 1, 1, 1, 1, 1, 1, 1, 1, 1, 1, 1, 1, 1, 1, 1,\n",
       "        1, 1, 1, 1, 1, 1, 1, 1, 1, 1, 1, 1, 1, 1, 1, 1, 1, 1, 1, 1, 1, 1,\n",
       "        1, 1, 1, 1, 1, 1, 1, 1, 1, 1, 1, 1, 1, 1, 1, 1, 1, 1, 1, 1, 1, 1,\n",
       "        1, 1, 1, 1, 1, 1, 1, 1, 1, 1, 1, 1, 1, 1, 1, 1, 1, 1, 1, 1, 1, 1,\n",
       "        1, 1, 1, 1, 1, 1, 1, 1, 1, 1, 1, 1, 1, 1, 1, 1, 1, 1, 1, 1, 1, 1,\n",
       "        1, 1, 1, 1, 1, 1, 1, 1, 1, 1, 1, 1, 1, 1, 1, 1, 1, 1, 1, 1, 1, 1,\n",
       "        1, 1, 1, 1, 1, 1, 1, 1, 1, 1, 1, 1, 1, 1, 1, 1, 1, 1, 1, 1, 1, 1,\n",
       "        1, 1, 1, 1, 1, 1, 1, 1, 1, 1, 1, 1, 1, 1, 1, 1, 1, 1, 1, 1, 1, 1,\n",
       "        1, 1, 1, 1, 1, 1, 1, 1, 1, 1, 1, 1, 1, 1, 1, 1, 1, 1, 1, 1, 1, 1,\n",
       "        1, 1, 1, 1, 1, 1, 1, 1, 1, 1, 1, 1, 1, 1, 1, 1, 1, 1, 1, 1, 1, 1,\n",
       "        1, 1, 1, 1, 1, 1, 1, 1, 1, 1, 1, 1, 1, 1, 1, 1, 1, 1, 1, 1, 1, 1,\n",
       "        1, 1, 1, 1, 1, 1, 1, 1, 1, 1, 1, 1, 1, 1, 1, 1, 1, 1, 1, 1, 1, 1,\n",
       "        1, 1, 1, 1, 1, 1, 1, 1, 1, 1, 1, 1, 1, 1, 1, 1]], dtype=int64)"
      ]
     },
     "execution_count": 14,
     "metadata": {},
     "output_type": "execute_result"
    }
   ],
   "source": [
    "X_tmp.toarray()"
   ]
  },
  {
   "cell_type": "markdown",
   "metadata": {},
   "source": [
    "## 2 Support Vector Machine"
   ]
  },
  {
   "cell_type": "code",
   "execution_count": 16,
   "metadata": {},
   "outputs": [],
   "source": [
    "from sklearn.model_selection import train_test_split, GridSearchCV\n",
    "from sklearn.svm import SVC\n",
    "from sklearn.feature_extraction.text import CountVectorizer\n",
    "from sklearn.pipeline import Pipeline\n",
    "from joblib import dump, load"
   ]
  },
  {
   "cell_type": "markdown",
   "metadata": {},
   "source": [
    "### 2.1 Pipeline construction\n",
    "\n",
    "First we build a `Pipeline` so that every point in the data set (*i.e.*, every email) is passed through the `CountVectorizer` object first and transformed to a bag-of-words representation. We are only going to keep the 2000 most frequently occurring words in the training set, but we could adjust this as a hyperparameter if we desired. Some of the emails have some decoding issues (only a few) so we'll just ignore those. You can see once again we're specifying `binary=True`, meaning we only are counting if a vocabulary word is in the email, not the number of occurrences. We specify the `analyzer` which we made above which is responsible for *both* the preprocessing and tokenization of the words.\n",
    "\n",
    "After emails are processed by `CountVectorizer` they are then fed into `SVC`, the support vector classifer. We are specifying a linear kernel here, but we could easily make that a hyper parameter to do a grid search on below."
   ]
  },
  {
   "cell_type": "code",
   "execution_count": 50,
   "metadata": {},
   "outputs": [],
   "source": [
    "pipeline = Pipeline([\n",
    "    ('vect', CountVectorizer(max_features=2000, \n",
    "                             decode_error='ignore',\n",
    "                             binary=True,\n",
    "                             analyzer=stemmed_words)),\n",
    "    ('svc', SVC(kernel='linear')),\n",
    "])"
   ]
  },
  {
   "cell_type": "markdown",
   "metadata": {},
   "source": [
    "### 2.2 Grid search\n",
    "Here we construct a grid search over the `C` parameter used with the support vector classifer. This is the regularization parameter, also known as the penalty parameter. Smaller values mean more regularization in this case. We run the search on the training set alone and save the model to disk.\n",
    "\n",
    "This grid search also does cross-validation, meaning the training data set is split up into two parts, which will become our new training and validation sets for this purpose. I'm using five-fold CV, meaning 4/5 of the training data is going to be treated as a training set, and the other 1/5 is the validation set which we test the model on. For each set of hyperparameters we do this five times, since the data will be split up into fifths. In the end we'll find the value of `C` that produces the best estimator and that will be used in our final test with the original test set.\n",
    "\n",
    "I'm using the F1 score as the quantity we want to base our decision on which estimator is 'best'."
   ]
  },
  {
   "cell_type": "code",
   "execution_count": 49,
   "metadata": {},
   "outputs": [
    {
     "name": "stdout",
     "output_type": "stream",
     "text": [
      "Fitting 5 folds for each of 5 candidates, totalling 25 fits\n",
      "[CV] svc__C=0.01 .....................................................\n",
      "[CV] svc__C=0.01 .....................................................\n",
      "[CV] svc__C=0.01 .....................................................\n",
      "[CV] ............ svc__C=0.01, score=0.9023136246786633, total= 1.4min\n",
      "[CV] svc__C=0.01 .....................................................\n",
      "[CV] ............. svc__C=0.01, score=0.858034321372855, total= 1.3min\n",
      "[CV] svc__C=0.01 .....................................................\n"
     ]
    },
    {
     "name": "stderr",
     "output_type": "stream",
     "text": [
      "[Parallel(n_jobs=3)]: Done   2 tasks      | elapsed:  2.5min\n"
     ]
    },
    {
     "name": "stdout",
     "output_type": "stream",
     "text": [
      "[CV] ............ svc__C=0.01, score=0.8593508500772797, total= 1.4min\n",
      "[CV] svc__C=0.1 ......................................................\n",
      "[CV] ............ svc__C=0.01, score=0.8682170542635658, total= 1.4min\n",
      "[CV] svc__C=0.1 ......................................................\n",
      "[CV] ............ svc__C=0.01, score=0.9010416666666666, total= 1.5min\n",
      "[CV] svc__C=0.1 ......................................................\n",
      "[CV] .............. svc__C=0.1, score=0.904040404040404, total= 1.3min\n",
      "[CV] svc__C=0.1 ......................................................\n",
      "[CV] .............. svc__C=0.1, score=0.924066924066924, total= 1.3min\n",
      "[CV] svc__C=0.1 ......................................................\n"
     ]
    },
    {
     "name": "stderr",
     "output_type": "stream",
     "text": [
      "[Parallel(n_jobs=3)]: Done   7 tasks      | elapsed:  7.0min\n"
     ]
    },
    {
     "name": "stdout",
     "output_type": "stream",
     "text": [
      "[CV] ............. svc__C=0.1, score=0.8978562421185371, total= 1.2min\n",
      "[CV] svc__C=1.0 ......................................................\n",
      "[CV] ............. svc__C=0.1, score=0.9238709677419354, total= 1.4min\n",
      "[CV] svc__C=1.0 ......................................................\n",
      "[CV] ............. svc__C=0.1, score=0.9093231162196679, total= 1.2min\n",
      "[CV] svc__C=1.0 ......................................................\n",
      "[CV] ............. svc__C=1.0, score=0.8964646464646465, total= 1.3min\n",
      "[CV] svc__C=1.0 ......................................................\n",
      "[CV] ............. svc__C=1.0, score=0.9234760051880674, total= 1.4min\n",
      "[CV] svc__C=1.0 ......................................................\n"
     ]
    },
    {
     "name": "stderr",
     "output_type": "stream",
     "text": [
      "[Parallel(n_jobs=3)]: Done  12 tasks      | elapsed:  9.8min\n"
     ]
    },
    {
     "name": "stdout",
     "output_type": "stream",
     "text": [
      "[CV] .............. svc__C=1.0, score=0.922680412371134, total= 1.4min\n",
      "[CV] svc__C=10.0 .....................................................\n",
      "[CV] ............. svc__C=1.0, score=0.8908629441624365, total= 1.3min\n",
      "[CV] svc__C=10.0 .....................................................\n",
      "[CV] ............. svc__C=1.0, score=0.8987341772151899, total= 1.4min\n",
      "[CV] svc__C=10.0 .....................................................\n",
      "[CV] ............ svc__C=10.0, score=0.8964646464646465, total= 1.2min\n",
      "[CV] svc__C=10.0 .....................................................\n",
      "[CV] ............ svc__C=10.0, score=0.9232769830949284, total= 1.4min\n",
      "[CV] svc__C=10.0 .....................................................\n",
      "[CV] ............. svc__C=10.0, score=0.922680412371134, total= 1.4min\n",
      "[CV] svc__C=100.0 ....................................................\n",
      "[CV] ............ svc__C=10.0, score=0.8955974842767296, total= 1.3min\n",
      "[CV] svc__C=100.0 ....................................................\n"
     ]
    },
    {
     "name": "stderr",
     "output_type": "stream",
     "text": [
      "[Parallel(n_jobs=3)]: Done  19 tasks      | elapsed: 15.7min\n"
     ]
    },
    {
     "name": "stdout",
     "output_type": "stream",
     "text": [
      "[CV] ............ svc__C=10.0, score=0.9035532994923858, total= 1.5min\n",
      "[CV] svc__C=100.0 ....................................................\n",
      "[CV] ........... svc__C=100.0, score=0.8964646464646465, total= 1.3min\n",
      "[CV] svc__C=100.0 ....................................................\n",
      "[CV] ........... svc__C=100.0, score=0.9232769830949284, total= 1.4min\n",
      "[CV] svc__C=100.0 ....................................................\n",
      "[CV] ............ svc__C=100.0, score=0.922680412371134, total= 1.2min\n"
     ]
    },
    {
     "name": "stderr",
     "output_type": "stream",
     "text": [
      "[Parallel(n_jobs=3)]: Done  23 out of  25 | elapsed: 19.2min remaining:  1.7min\n"
     ]
    },
    {
     "name": "stdout",
     "output_type": "stream",
     "text": [
      "[CV] ........... svc__C=100.0, score=0.8955974842767296, total= 1.3min\n",
      "[CV] ........... svc__C=100.0, score=0.9035532994923858, total= 1.3min\n"
     ]
    },
    {
     "name": "stderr",
     "output_type": "stream",
     "text": [
      "[Parallel(n_jobs=3)]: Done  25 out of  25 | elapsed: 20.3min finished\n"
     ]
    },
    {
     "data": {
      "text/plain": [
       "['clf.gz']"
      ]
     },
     "execution_count": 49,
     "metadata": {},
     "output_type": "execute_result"
    }
   ],
   "source": [
    "tuned_parameters = [{'svc__C': np.logspace(-2,2,5)}]\n",
    "clf = GridSearchCV(pipeline, param_grid=tuned_parameters, \n",
    "                   scoring=\"f1\", return_train_score=True,\n",
    "                   verbose=10, n_jobs=3, cv=5)\n",
    "clf.fit(X_train, y_train)\n",
    "dump(clf, 'clf.gz')"
   ]
  },
  {
   "cell_type": "markdown",
   "metadata": {},
   "source": [
    "### 2.3 Validation curve\n",
    "\n",
    "Below we plot the validation curve, showing the average train and validation scores from the cross validation as a function of the penalty parameter `C`. As you can see there is a peak in the validation score at `C=0.1`. Any value greater than that means we would be overfitting (note how the training score increases but the validation score decreases), and values lower than that are underfitting (boht scores decrease as `C` gets smaller)."
   ]
  },
  {
   "cell_type": "code",
   "execution_count": 33,
   "metadata": {},
   "outputs": [],
   "source": [
    "from sklearn.metrics import precision_recall_curve, average_precision_score, classification_report, roc_auc_score"
   ]
  },
  {
   "cell_type": "code",
   "execution_count": 17,
   "metadata": {},
   "outputs": [],
   "source": [
    "clf = load('clf.gz')\n",
    "results = pd.DataFrame(clf.cv_results_)"
   ]
  },
  {
   "cell_type": "code",
   "execution_count": 18,
   "metadata": {},
   "outputs": [
    {
     "data": {
      "text/plain": [
       "{'svc__C': 0.1}"
      ]
     },
     "execution_count": 18,
     "metadata": {},
     "output_type": "execute_result"
    }
   ],
   "source": [
    "clf.best_params_"
   ]
  },
  {
   "cell_type": "code",
   "execution_count": 19,
   "metadata": {},
   "outputs": [
    {
     "data": {
      "image/png": "[encoded data removed]",
      "text/plain": [
       "<Figure size 432x288 with 1 Axes>"
      ]
     },
     "metadata": {},
     "output_type": "display_data"
    }
   ],
   "source": [
    "results.plot('param_svc__C', 'mean_train_score', label='Train score')\n",
    "results.plot('param_svc__C', 'mean_test_score', label='Validation score', ax=plt.gca())\n",
    "plt.fill_between(results.param_svc__C.astype(np.float),\n",
    "                 results['mean_train_score'] + results['std_train_score'],\n",
    "                 results['mean_train_score'] - results['std_train_score'], \n",
    "                 alpha=0.2)\n",
    "plt.fill_between(results.param_svc__C.astype(np.float),\n",
    "                 results['mean_test_score'] + results['std_test_score'],\n",
    "                 results['mean_test_score'] - results['std_test_score'], \n",
    "                 alpha=0.2)\n",
    "plt.xscale('log')\n",
    "plt.xlabel('C')\n",
    "plt.ylabel('Score')\n",
    "plt.legend()\n",
    "plt.show()"
   ]
  },
  {
   "cell_type": "markdown",
   "metadata": {},
   "source": [
    "### 2.4 Learning curve\n",
    "Here we use the best estimator found in the grid search above to calculate the performance of the model as a function of the size of the training set."
   ]
  },
  {
   "cell_type": "code",
   "execution_count": 48,
   "metadata": {},
   "outputs": [],
   "source": [
    "from sklearn.model_selection import learning_curve"
   ]
  },
  {
   "cell_type": "code",
   "execution_count": 55,
   "metadata": {},
   "outputs": [
    {
     "name": "stdout",
     "output_type": "stream",
     "text": [
      "[learning_curve] Training set sizes: [ 560 1822 3084 4346 5609]\n",
      "[CV]  ................................................................\n",
      "[CV]  ................................................................\n",
      "[CV]  ................................................................\n",
      "[CV] ....................... , score=0.8306709265175719, total=  24.9s\n",
      "[CV]  ................................................................\n",
      "[CV] ....................... , score=0.9044414535666219, total=  25.1s\n",
      "[CV]  ................................................................\n"
     ]
    },
    {
     "name": "stderr",
     "output_type": "stream",
     "text": [
      "[Parallel(n_jobs=3)]: Done   2 out of  25 | elapsed:   39.6s remaining:  7.6min\n"
     ]
    },
    {
     "name": "stdout",
     "output_type": "stream",
     "text": [
      "[CV] ....................... , score=0.9175531914893618, total=  51.6s\n",
      "[CV]  ................................................................\n",
      "[CV] ....................... , score=0.8791500664010623, total=  15.0s\n",
      "[CV]  ................................................................\n",
      "[CV] ....................... , score=0.8812664907651715, total=  26.1s\n",
      "[CV]  ................................................................\n"
     ]
    },
    {
     "name": "stderr",
     "output_type": "stream",
     "text": [
      "[Parallel(n_jobs=3)]: Done   5 out of  25 | elapsed:  2.4min remaining:  9.5min\n"
     ]
    },
    {
     "name": "stdout",
     "output_type": "stream",
     "text": [
      "[CV] ....................... , score=0.9156626506024097, total= 1.3min\n",
      "[CV]  ................................................................\n",
      "[CV] ....................... , score=0.9195710455764075, total= 1.6min\n",
      "[CV]  ................................................................\n",
      "[CV] ....................... , score=0.9028871391076116, total=  50.3s\n",
      "[CV]  ................................................................\n"
     ]
    },
    {
     "name": "stderr",
     "output_type": "stream",
     "text": [
      "[Parallel(n_jobs=3)]: Done   8 out of  25 | elapsed:  3.7min remaining:  7.8min\n"
     ]
    },
    {
     "name": "stdout",
     "output_type": "stream",
     "text": [
      "[CV] ....................... , score=0.8623853211009175, total=  15.8s\n",
      "[CV]  ................................................................\n",
      "[CV] ....................... , score=0.9007832898172323, total= 1.0min\n",
      "[CV]  ................................................................\n",
      "[CV] ....................... , score=0.8845144356955381, total=  27.9s\n",
      "[CV]  ................................................................\n"
     ]
    },
    {
     "name": "stderr",
     "output_type": "stream",
     "text": [
      "[Parallel(n_jobs=3)]: Done  11 out of  25 | elapsed:  4.9min remaining:  6.2min\n"
     ]
    },
    {
     "name": "stdout",
     "output_type": "stream",
     "text": [
      "[CV] ....................... , score=0.8989637305699482, total=  39.8s\n",
      "[CV]  ................................................................\n",
      "[CV] ........................ , score=0.903820816864295, total= 1.6min\n",
      "[CV]  ................................................................\n",
      "[CV] ....................... , score=0.8697986577181208, total=  22.1s\n",
      "[CV]  ................................................................\n"
     ]
    },
    {
     "name": "stderr",
     "output_type": "stream",
     "text": [
      "[Parallel(n_jobs=3)]: Done  14 out of  25 | elapsed:  6.7min remaining:  5.3min\n"
     ]
    },
    {
     "name": "stdout",
     "output_type": "stream",
     "text": [
      "[CV] ....................... , score=0.9041450777202072, total= 1.2min\n",
      "[CV]  ................................................................\n",
      "[CV] ....................... , score=0.8923884514435695, total=  42.1s\n",
      "[CV]  ................................................................\n",
      "[CV] ........................ , score=0.894668400520156, total=  50.4s\n",
      "[CV]  ................................................................\n"
     ]
    },
    {
     "name": "stderr",
     "output_type": "stream",
     "text": [
      "[Parallel(n_jobs=3)]: Done  17 out of  25 | elapsed:  8.2min remaining:  3.9min\n"
     ]
    },
    {
     "name": "stdout",
     "output_type": "stream",
     "text": [
      "[CV] ........................ , score=0.905071521456437, total= 1.4min\n",
      "[CV]  ................................................................\n",
      "[CV] ....................... , score=0.8563829787234043, total=  26.4s\n",
      "[CV]  ................................................................\n",
      "[CV] ....................... , score=0.9007832898172323, total= 1.2min\n",
      "[CV]  ................................................................\n"
     ]
    },
    {
     "name": "stderr",
     "output_type": "stream",
     "text": [
      "[Parallel(n_jobs=3)]: Done  20 out of  25 | elapsed:  9.6min remaining:  2.4min\n"
     ]
    },
    {
     "name": "stdout",
     "output_type": "stream",
     "text": [
      "[CV] ....................... , score=0.8883116883116883, total=  44.3s\n",
      "[CV]  ................................................................\n",
      "[CV] ....................... , score=0.9045751633986927, total= 1.3min\n",
      "[CV]  ................................................................\n",
      "[CV] ....................... , score=0.8932291666666666, total=  56.7s\n"
     ]
    },
    {
     "name": "stderr",
     "output_type": "stream",
     "text": [
      "[Parallel(n_jobs=3)]: Done  23 out of  25 | elapsed: 11.1min remaining:   57.9s\n"
     ]
    },
    {
     "name": "stdout",
     "output_type": "stream",
     "text": [
      "[CV] ....................... , score=0.8975356679636834, total= 1.1min\n",
      "[CV] ....................... , score=0.9014454664914586, total= 1.2min\n"
     ]
    },
    {
     "name": "stderr",
     "output_type": "stream",
     "text": [
      "[Parallel(n_jobs=3)]: Done  25 out of  25 | elapsed: 12.5min finished\n"
     ]
    },
    {
     "data": {
      "text/plain": [
       "['learning_curve.gz']"
      ]
     },
     "execution_count": 55,
     "metadata": {},
     "output_type": "execute_result"
    }
   ],
   "source": [
    "lc_results = learning_curve(clf.best_estimator_, X_train, y_train,\n",
    "                            cv=5, n_jobs=3, train_sizes=np.linspace(.1, 1.0, 5),\n",
    "                            verbose=10, scoring='f1')\n",
    "dump(lc_results, 'learning_curve.gz')"
   ]
  },
  {
   "cell_type": "code",
   "execution_count": 21,
   "metadata": {},
   "outputs": [],
   "source": [
    "def plot_learning_curve(lc_results):\n",
    "    train_sizes = lc_results[0]\n",
    "    train_scores = lc_results[1]\n",
    "    test_scores = lc_results[2]\n",
    "    train_scores_mean = np.mean(train_scores, axis=1)\n",
    "    train_scores_std = np.std(train_scores, axis=1)\n",
    "    test_scores_mean = np.mean(test_scores, axis=1)\n",
    "    test_scores_std = np.std(test_scores, axis=1)\n",
    "\n",
    "    plt.fill_between(train_sizes, train_scores_mean - train_scores_std,\n",
    "                     train_scores_mean + train_scores_std, alpha=0.1)\n",
    "    plt.fill_between(train_sizes, test_scores_mean - test_scores_std,\n",
    "                     test_scores_mean + test_scores_std, alpha=0.1)\n",
    "    plt.plot(train_sizes, train_scores_mean, 'o-', label=\"Train score\")\n",
    "    plt.plot(train_sizes, test_scores_mean, 'o-', label=\"Test score\")\n",
    "\n",
    "    plt.legend(loc=\"best\")\n",
    "    plt.xlabel('Number of samples')\n",
    "    plt.ylabel(\"F1 score\")\n",
    "    plt.show()"
   ]
  },
  {
   "cell_type": "code",
   "execution_count": 22,
   "metadata": {},
   "outputs": [
    {
     "data": {
      "image/png": "[encoded data removed]",
      "text/plain": [
       "<Figure size 432x288 with 1 Axes>"
      ]
     },
     "metadata": {},
     "output_type": "display_data"
    }
   ],
   "source": [
    "plot_learning_curve(load('learning_curve.gz'))"
   ]
  },
  {
   "cell_type": "markdown",
   "metadata": {},
   "source": [
    "## 3 Test set evaluation"
   ]
  },
  {
   "cell_type": "markdown",
   "metadata": {},
   "source": [
    "### 3.1 Classification report"
   ]
  },
  {
   "cell_type": "markdown",
   "metadata": {},
   "source": [
    "Precision: \n",
    "\n",
    "$ P = \\frac{T_{p}}{T_{p} + F_{p}} $\n",
    "\n",
    "Recall:\n",
    "\n",
    "$ R = \\frac{T_{p}}{T_{p} + F_{n}} $\n",
    "\n",
    "F1 score:\n",
    "\n",
    "$ F1 = 2\\frac{PR}{P+R}$"
   ]
  },
  {
   "cell_type": "code",
   "execution_count": 26,
   "metadata": {},
   "outputs": [],
   "source": [
    "y_pred = clf.predict(X_test)"
   ]
  },
  {
   "cell_type": "code",
   "execution_count": 41,
   "metadata": {},
   "outputs": [
    {
     "name": "stdout",
     "output_type": "stream",
     "text": [
      "Training accuracy: 0.921\n"
     ]
    }
   ],
   "source": [
    "print(\"Training accuracy: {0:.3}\".format(clf.score(X_train, y_train)))"
   ]
  },
  {
   "cell_type": "code",
   "execution_count": 42,
   "metadata": {},
   "outputs": [
    {
     "name": "stdout",
     "output_type": "stream",
     "text": [
      "Test accuracy: 0.935\n"
     ]
    }
   ],
   "source": [
    "print(\"Test accuracy: {0:.3}\".format(clf.score(X_test, y_test)))"
   ]
  },
  {
   "cell_type": "code",
   "execution_count": 43,
   "metadata": {},
   "outputs": [
    {
     "name": "stdout",
     "output_type": "stream",
     "text": [
      "             precision    recall  f1-score   support\n",
      "\n",
      "          0       1.00      0.95      0.97      1708\n",
      "          1       0.88      1.00      0.94       630\n",
      "\n",
      "avg / total       0.97      0.96      0.96      2338\n",
      "\n"
     ]
    }
   ],
   "source": [
    "print(classification_report(y_test, y_pred))"
   ]
  },
  {
   "cell_type": "markdown",
   "metadata": {},
   "source": [
    "### 3.2 Precision-recall curve\n",
    "\n",
    "Precision-recall curves show the changes in precision and recall for different probability thresholds. That is, when we predict whether or not an email is spam, we get a probabliity. We could classify an email to be spam if `p >= 0.5` and not spam otherwise, but we can change that threshold."
   ]
  },
  {
   "cell_type": "markdown",
   "metadata": {},
   "source": [
    "Average precision:\n",
    "\n",
    "$ AP = \\sum_{n}(R_{n} - R_{n-1})P_{n} $"
   ]
  },
  {
   "cell_type": "code",
   "execution_count": 44,
   "metadata": {},
   "outputs": [],
   "source": [
    "average_precision = average_precision_score(y_test, y_score)"
   ]
  },
  {
   "cell_type": "markdown",
   "metadata": {},
   "source": [
    "Area under the precision-recall curve using the trapezoidal rule."
   ]
  },
  {
   "cell_type": "code",
   "execution_count": 45,
   "metadata": {},
   "outputs": [],
   "source": [
    "auc_score = roc_auc_score(y_test, y_score)"
   ]
  },
  {
   "cell_type": "code",
   "execution_count": 46,
   "metadata": {},
   "outputs": [],
   "source": [
    "y_score = clf.decision_function(X_test)\n",
    "precision, recall, thresholds = precision_recall_curve(y_test, y_score)"
   ]
  },
  {
   "cell_type": "code",
   "execution_count": 47,
   "metadata": {},
   "outputs": [
    {
     "data": {
      "image/png": "[encoded data removed]",
      "text/plain": [
       "<Figure size 432x288 with 1 Axes>"
      ]
     },
     "metadata": {},
     "output_type": "display_data"
    }
   ],
   "source": [
    "plt.step(recall, precision, color='b', alpha=0.2, where='post')\n",
    "plt.fill_between(recall, precision, step='post', alpha=0.2, color='b')\n",
    "\n",
    "plt.xlabel('Recall')\n",
    "plt.ylabel('Precision')\n",
    "plt.ylim([0.0, 1.0])\n",
    "plt.xlim([0.0, 1.0])\n",
    "plt.title('Precision-recall curve: AP={0:0.2f}, AUC={1:0.2f}'.format(average_precision, auc_score))\n",
    "plt.show()"
   ]
  },
  {
   "cell_type": "markdown",
   "metadata": {},
   "source": [
    "### 3.3 Confusion matrix"
   ]
  },
  {
   "cell_type": "code",
   "execution_count": 23,
   "metadata": {},
   "outputs": [],
   "source": [
    "from sklearn.metrics import confusion_matrix"
   ]
  },
  {
   "cell_type": "code",
   "execution_count": 32,
   "metadata": {},
   "outputs": [],
   "source": [
    "import itertools\n",
    "\n",
    "def plot_confusion_matrix(cm, classes,\n",
    "                          normalize=False,\n",
    "                          title='Confusion matrix',\n",
    "                          cmap=plt.cm.Blues):\n",
    "    \"\"\"\n",
    "    This function prints and plots the confusion matrix.\n",
    "    Normalization can be applied by setting `normalize=True`.\n",
    "    \"\"\"\n",
    "    if normalize:\n",
    "        cm = cm.astype('float') / cm.sum(axis=1)[:, np.newaxis]\n",
    "        print(\"Normalized confusion matrix\")\n",
    "    else:\n",
    "        print('Confusion matrix, without normalization')\n",
    "\n",
    "    print(cm)\n",
    "\n",
    "    plt.imshow(cm, interpolation='nearest', cmap=cmap)\n",
    "    plt.title(title)\n",
    "    plt.colorbar()\n",
    "    tick_marks = np.arange(len(classes))\n",
    "    plt.xticks(tick_marks, classes, rotation=45)\n",
    "    plt.yticks(tick_marks, classes)\n",
    "\n",
    "    fmt = '.2f' if normalize else 'd'\n",
    "    thresh = cm.max() / 2.\n",
    "    for i, j in itertools.product(range(cm.shape[0]), range(cm.shape[1])):\n",
    "        plt.text(j, i, format(cm[i, j], fmt),\n",
    "                 horizontalalignment=\"center\",\n",
    "                 color=\"white\" if cm[i, j] > thresh else \"black\")\n",
    "\n",
    "    plt.tight_layout()\n",
    "    plt.ylabel('True label')\n",
    "    plt.xlabel('Predicted label')\n",
    "    plt.show()"
   ]
  },
  {
   "cell_type": "code",
   "execution_count": 33,
   "metadata": {},
   "outputs": [],
   "source": [
    "cnf_matrix = confusion_matrix(y_test, y_pred)"
   ]
  },
  {
   "cell_type": "code",
   "execution_count": 35,
   "metadata": {},
   "outputs": [
    {
     "name": "stdout",
     "output_type": "stream",
     "text": [
      "Confusion matrix, without normalization\n",
      "[[1630   96]\n",
      " [   3  609]]\n"
     ]
    },
    {
     "data": {
      "image/png": "[encoded data removed]",
      "text/plain": [
       "<Figure size 432x288 with 2 Axes>"
      ]
     },
     "metadata": {},
     "output_type": "display_data"
    }
   ],
   "source": [
    "plot_confusion_matrix(cnf_matrix, emails.target_names)"
   ]
  },
  {
   "cell_type": "markdown",
   "metadata": {},
   "source": [
    "## 4 Top predictors of spam\n",
    "\n",
    "Shown below, there is an issue of our model picking up words that are specific to this data set. `spamassassinsight` seems to be referring to `spamassassin-sightings`, an e-mail list that some users refer to in these specific emails. If we were to generalize our model, we would need a more general vocabulary list, drawn from a more diverse data set, or we can adjust `CountVectorizer` in the pipeline (or do a grid search over some additional hyperparameters)."
   ]
  },
  {
   "cell_type": "code",
   "execution_count": 63,
   "metadata": {
    "scrolled": true
   },
   "outputs": [],
   "source": [
    "def plot_important_words(coef, names, label, n=10):\n",
    "    coef_argsorted = np.argsort(coef)\n",
    "    feature_names_array = np.array(names)\n",
    "    words = []\n",
    "    values = []\n",
    "    if label == 'spam':\n",
    "        for i in range(-n,0):\n",
    "            words.append(names[coef_argsorted[i]])\n",
    "            values.append(coef[coef_argsorted[i]])\n",
    "    else:\n",
    "        for i in range(0,n):\n",
    "            words.append(names[coef_argsorted[i]])\n",
    "            values.append(coef[coef_argsorted[i]])\n",
    "\n",
    "    y = np.arange(n)\n",
    "    plt.barh(y, values)\n",
    "    plt.yticks(y, words)\n",
    "    plt.xlabel('Coefficient')\n",
    "    plt.ylabel('Word')\n",
    "    plt.title(label)\n",
    "    plt.show()"
   ]
  },
  {
   "cell_type": "code",
   "execution_count": 64,
   "metadata": {},
   "outputs": [
    {
     "data": {
      "image/png": "[encoded data removed]",
      "text/plain": [
       "<Figure size 432x288 with 1 Axes>"
      ]
     },
     "metadata": {},
     "output_type": "display_data"
    },
    {
     "data": {
      "image/png": "[encoded data removed]",
      "text/plain": [
       "<Figure size 432x288 with 1 Axes>"
      ]
     },
     "metadata": {},
     "output_type": "display_data"
    }
   ],
   "source": [
    "plot_important_words(clf.best_estimator_.named_steps['svc'].coef_.toarray()[0], \n",
    "                     clf.best_estimator_.named_steps['vect'].get_feature_names(),\n",
    "                    'spam')\n",
    "\n",
    "plot_important_words(clf.best_estimator_.named_steps['svc'].coef_.toarray()[0], \n",
    "                     clf.best_estimator_.named_steps['vect'].get_feature_names(),\n",
    "                    'ham')"
   ]
  }
 ],
 "metadata": {
  "kernelspec": {
   "display_name": "Python 3",
   "language": "python",
   "name": "python3"
  },
  "language_info": {
   "codemirror_mode": {
    "name": "ipython",
    "version": 3
   },
   "file_extension": ".py",
   "mimetype": "text/x-python",
   "name": "python",
   "nbconvert_exporter": "python",
   "pygments_lexer": "ipython3",
   "version": "3.6.5"
  }
 },
 "nbformat": 4,
 "nbformat_minor": 2
}
